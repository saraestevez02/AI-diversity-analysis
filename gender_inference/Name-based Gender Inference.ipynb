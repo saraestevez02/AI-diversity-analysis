{
 "cells": [
  {
   "cell_type": "markdown",
   "metadata": {},
   "source": [
    "\n",
    "## Step 2: NAME-BASED GENDER INFERENCE <a class=\"anchor\\\" id=\"genre\"></a>\n",
    "\n",
    "<div class=\"alert alert-block alert-success\">\n",
    "After parsing the DBLP web and obtaining the authors names, their links and afilliations we take that table and infer the gender. This could also work with any other table containing names.\n",
    "\n",
    "In order to do this, the Namsor API will be implemented. You need a Namsor API Key in order to carry on with this part.\n",
    "</div>\n",
    "\n",
    "<br>\n"
   ]
  },
  {
   "cell_type": "markdown",
   "metadata": {},
   "source": [
    "##### Install Namsor library"
   ]
  },
  {
   "cell_type": "code",
   "execution_count": 14,
   "metadata": {},
   "outputs": [],
   "source": [
    "#Uncomment when wanting to update or to install for the first time\n",
    "#!pip install git+https://github.com/namsor/namsor-python-sdk2.git"
   ]
  },
  {
   "cell_type": "markdown",
   "metadata": {},
   "source": [
    "##### Remaining necessary imports"
   ]
  },
  {
   "cell_type": "code",
   "execution_count": 15,
   "metadata": {},
   "outputs": [],
   "source": [
    "import openapi_client \n",
    "import time\n",
    "from openapi_client.rest import ApiException\n",
    "from pprint import pprint"
   ]
  },
  {
   "cell_type": "markdown",
   "metadata": {},
   "source": [
    "### 2.1 Use Namsor to infer Genre"
   ]
  },
  {
   "cell_type": "code",
   "execution_count": 18,
   "metadata": {
    "scrolled": true
   },
   "outputs": [],
   "source": [
    "'''JUST GENDER'''\n",
    "\n",
    "configuration = openapi_client.Configuration()\n",
    "configuration.api_key['X-API-KEY'] = ' ' #insert here your API key\n",
    "\n",
    "gender=[]\n",
    "\n",
    "df_complete = df_complete[df_complete.Affiliation.notna()]\n",
    "\n",
    "for element in df_complete['Authors']:                                                                                  \n",
    "    # create an instance of the API class\n",
    "    api_instance = openapi_client.PersonalApi(openapi_client.ApiClient(configuration))\n",
    "    try:\n",
    "        # Infer the likely gender of a name.\n",
    "        api_response_gender = api_instance.gender_full(element)\n",
    "        gender.append(api_response_gender.likely_gender.capitalize())\n",
    "\n",
    "    except ApiException as e:\n",
    "\n",
    "        print(\"Exception when calling PersonalApi->gender:\")\n",
    "        gender.append(\"Other\")\n",
    "\n",
    "\n",
    "df_complete.loc[:,'Gender'] = gender"
   ]
  },
  {
   "cell_type": "markdown",
   "metadata": {},
   "source": [
    "**Output:** dataframe with the following columns:\n",
    "- Authors\t\n",
    "- Url\t\n",
    "- Conference\t\n",
    "- Affiliation\t\n",
    "- Gender"
   ]
  },
  {
   "cell_type": "code",
   "execution_count": 20,
   "metadata": {},
   "outputs": [],
   "source": [
    "route = '' #specify where you want to export the data\n",
    "name = '' #specify name of the archive ending in .csv\n",
    "\n",
    "df_complete.to_csv(route+name)"
   ]
  },
  {
   "cell_type": "markdown",
   "metadata": {},
   "source": [
    "##### If we want to see the attributes we can use from the Namsor api, run the following"
   ]
  },
  {
   "cell_type": "code",
   "execution_count": 346,
   "metadata": {},
   "outputs": [],
   "source": [
    "#pprint(api_response_origin)"
   ]
  },
  {
   "cell_type": "code",
   "execution_count": 347,
   "metadata": {},
   "outputs": [],
   "source": [
    "#pprint(api_response_country)"
   ]
  }
 ],
 "metadata": {
  "kernelspec": {
   "display_name": "Python 3",
   "language": "python",
   "name": "python3"
  },
  "language_info": {
   "codemirror_mode": {
    "name": "ipython",
    "version": 3
   },
   "file_extension": ".py",
   "mimetype": "text/x-python",
   "name": "python",
   "nbconvert_exporter": "python",
   "pygments_lexer": "ipython3",
   "version": "3.8.5"
  }
 },
 "nbformat": 4,
 "nbformat_minor": 4
}
