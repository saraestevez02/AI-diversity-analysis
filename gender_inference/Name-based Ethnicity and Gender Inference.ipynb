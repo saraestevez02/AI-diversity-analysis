{
 "cells": [
  {
   "cell_type": "markdown",
   "metadata": {},
   "source": [
    "\n",
    "## NAME-BASED ETHNICITY INFERENCE <a class=\"anchor\\\" id=\"genre\"></a>\n",
    "\n",
    "<div class=\"alert alert-block alert-success\">\n",
    "Using the Namsor library is also possible to infer the ethnicity of an author by their name. \n",
    "    \n",
    "Inferring this type of information wastes easily the free credits offered by the library.\n",
    "</div>\n",
    "<br>\n"
   ]
  },
  {
   "cell_type": "markdown",
   "metadata": {},
   "source": [
    "##### Install Namsor library"
   ]
  },
  {
   "cell_type": "code",
   "execution_count": 14,
   "metadata": {},
   "outputs": [],
   "source": [
    "#Uncomment when wanting to update or to install for the first time\n",
    "#!pip install git+https://github.com/namsor/namsor-python-sdk2.git"
   ]
  },
  {
   "cell_type": "markdown",
   "metadata": {},
   "source": [
    "##### Remaining necessary imports"
   ]
  },
  {
   "cell_type": "code",
   "execution_count": 15,
   "metadata": {},
   "outputs": [],
   "source": [
    "import openapi_client \n",
    "import time\n",
    "from openapi_client.rest import ApiException\n",
    "from pprint import pprint"
   ]
  },
  {
   "cell_type": "markdown",
   "metadata": {},
   "source": [
    "### Use Namsor library to infer ethnicity and gender"
   ]
  },
  {
   "cell_type": "code",
   "execution_count": null,
   "metadata": {},
   "outputs": [],
   "source": [
    "# Configure API key authorization: api_key\n",
    "\n",
    "configuration = openapi_client.Configuration()\n",
    "configuration.api_key['X-API-KEY'] = ''  #insert here your API key\n",
    "\n",
    "gender=[]\n",
    "country=[]\n",
    "first_name=[]\n",
    "last_name=[]\n",
    "origin = []\n",
    "region_origin = []\n",
    "subregion_origin =[]\n",
    "\n",
    "for element in df_complete['Authors']:\n",
    "    # create an instance of the API class\n",
    "    api_instance = openapi_client.PersonalApi(openapi_client.ApiClient(configuration))\n",
    "    try:\n",
    "        # Infer the likely gender of a name.\n",
    "\n",
    "        api_response_country = api_instance.country(element)\n",
    "        api_response_gender = api_instance.gender_full(element)\n",
    "        api_response_name = api_instance.parse_name(element)\n",
    "\n",
    "        firstName = api_response_name.first_last_name.first_name.capitalize()\n",
    "        lastName = api_response_name.first_last_name.last_name.capitalize()\n",
    "\n",
    "        api_response_origin = api_instance.origin(firstName,lastName)\n",
    "\n",
    "        gender.append(api_response_gender.likely_gender.capitalize())\n",
    "        first_name.append(firstName)\n",
    "        last_name.append(lastName)\n",
    "        country.append(api_response_country.country)\n",
    "        origin.append(api_response_origin.country_origin)\n",
    "        region_origin.append(api_response_origin.region_origin)\n",
    "        subregion_origin.append(api_response_origin.sub_region_origin)\n",
    "\n",
    "    except ApiException as e:\n",
    "\n",
    "        print(\"Exception when calling PersonalApi->gender:\")\n",
    "        gender.append(\"Other\")"
   ]
  },
  {
   "cell_type": "code",
   "execution_count": null,
   "metadata": {},
   "outputs": [],
   "source": [
    "df_complete.loc[:, 'FirstName '] = first_name\n",
    "df_complete.loc[:, 'LastName'] = last_name\n",
    "df_complete.loc[:,'Gender'] = gender\n",
    "df_complete.loc[:, 'CountryOrigin'] = origin\n",
    "\n",
    "#añadir region y subregion\n",
    "df_complete.loc[:, 'Region'] = region_origin\n",
    "df_complete.loc[:, 'Subregion'] = subregion_origin"
   ]
  },
  {
   "cell_type": "code",
   "execution_count": 20,
   "metadata": {},
   "outputs": [],
   "source": [
    "route = '' #specify where you want to export the data\n",
    "name = '' #specify name of the archive ending in .csv\n",
    "\n",
    "df_complete.to_csv(route+name)"
   ]
  },
  {
   "cell_type": "markdown",
   "metadata": {},
   "source": [
    "**Output:** dataframe with the following columns:\n",
    "- Authors\t\n",
    "- Url\t\n",
    "- Conference\t\n",
    "- Affiliation\t\n",
    "- Gender\n",
    "- Country Origin\n",
    "- Region \n",
    "- Subregion"
   ]
  }
 ],
 "metadata": {
  "kernelspec": {
   "display_name": "Python 3",
   "language": "python",
   "name": "python3"
  },
  "language_info": {
   "codemirror_mode": {
    "name": "ipython",
    "version": 3
   },
   "file_extension": ".py",
   "mimetype": "text/x-python",
   "name": "python",
   "nbconvert_exporter": "python",
   "pygments_lexer": "ipython3",
   "version": "3.8.5"
  }
 },
 "nbformat": 4,
 "nbformat_minor": 4
}
