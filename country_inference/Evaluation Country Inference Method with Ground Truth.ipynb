{
 "cells": [
  {
   "cell_type": "markdown",
   "metadata": {},
   "source": [
    "## Step 3: COUNTRY-BASED LOCATION INFERENCE<a class=\"anchor\\\" id=\"localization\"></a>\n",
    "\n",
    "\n",
    "\n",
    "<div class=\"alert alert-block alert-success\">\n",
    "In order to infer the location the library pycountry will be used. It reads the string passed as input and extracts the country. \n",
    "    \n",
    "Those affiliations not providing the the location in form of CountryName in the AffiliationName cannot be classified (they are a few percentage).\n",
    "</div>\n",
    "\n"
   ]
  },
  {
   "cell_type": "markdown",
   "metadata": {},
   "source": [
    "<div class=\"alert alert-block alert-warning\">\n",
    "    <b>IMPROVING COUNTRY AFFILIATION</b>\n",
    "    <br>\n",
    "    \n",
    "- Using PYCOUNTRY library\n",
    "- Importing a university dataset and pre-process the data before using PYCOUNTRY\n",
    "\n",
    "</div> \n",
    "\n"
   ]
  },
  {
   "cell_type": "markdown",
   "metadata": {},
   "source": [
    "<div class=\"alert alert-block alert-info\">\n",
    "<b> Step necessary for ACII datasets, as ground truth is being used to check accuracy </b>\n",
    "</div>"
   ]
  },
  {
   "cell_type": "code",
   "execution_count": 40,
   "metadata": {},
   "outputs": [],
   "source": [
    "def import_df(route, csv, col_drop, col_modify, cols_test):\n",
    "    \n",
    "    df = pd.read_csv(route + csv)\n",
    "    df = df.drop(columns = [col_drop])\n",
    "    df[col_modify] = df[col_modify].str.replace('United States of America','United States')\n",
    "    df_test = df[cols_test]\n",
    "    \n",
    "    return df, df_test"
   ]
  },
  {
   "cell_type": "code",
   "execution_count": 41,
   "metadata": {},
   "outputs": [],
   "source": [
    "ACII = True\n",
    "\n",
    "if ACII == True:\n",
    "    route = '' #specify where the ACII conference datasets are saved\n",
    "    col_to_drop = 'Unnamed: 0'\n",
    "    col_to_modify ='CountryAffilitation'\n",
    "    cols_for_testing = ['Name', 'Affiliation']\n",
    "\n",
    "\n",
    "    df_2019, df_2019_test = import_df(route,'/all_2019.csv', col_to_drop, col_to_modify, cols_for_testing)\n",
    "    df_2017, df_2017_test = import_df(route,'/all_2017.csv', col_to_drop, col_to_modify, cols_for_testing)\n",
    "    df_2015, df_2015_test = import_df(route,'/all_2015.csv', col_to_drop, col_to_modify, cols_for_testing)\n",
    "    df_2013, df_2013_test = import_df(route,'/all_2013.csv', col_to_drop, col_to_modify, cols_for_testing)\n",
    "    df_2011, df_2011_test = import_df(route,'/all_2011.csv', col_to_drop, col_to_modify, cols_for_testing)\n",
    "    df_2009, df_2009_test = import_df(route,'/all_2009.csv', col_to_drop, col_to_modify, cols_for_testing)\n",
    "    df_2007, df_2007_test = import_df(route,'/all_2007.csv', col_to_drop, col_to_modify, cols_for_testing)\n",
    "    df_2005, df_2005_test = import_df(route,'/all_2005.csv', col_to_drop, col_to_modify, cols_for_testing)"
   ]
  },
  {
   "cell_type": "code",
   "execution_count": 45,
   "metadata": {},
   "outputs": [
    {
     "data": {
      "text/html": [
       "<div>\n",
       "<style scoped>\n",
       "    .dataframe tbody tr th:only-of-type {\n",
       "        vertical-align: middle;\n",
       "    }\n",
       "\n",
       "    .dataframe tbody tr th {\n",
       "        vertical-align: top;\n",
       "    }\n",
       "\n",
       "    .dataframe thead th {\n",
       "        text-align: right;\n",
       "    }\n",
       "</style>\n",
       "<table border=\"1\" class=\"dataframe\">\n",
       "  <thead>\n",
       "    <tr style=\"text-align: right;\">\n",
       "      <th></th>\n",
       "      <th>Affiliation</th>\n",
       "      <th>CountryAffilitation</th>\n",
       "      <th>Code</th>\n",
       "    </tr>\n",
       "  </thead>\n",
       "  <tbody>\n",
       "    <tr>\n",
       "      <th>0</th>\n",
       "      <td>Computer Laboratory, University of Cambridge, ...</td>\n",
       "      <td>United Kingdom</td>\n",
       "      <td>Academia</td>\n",
       "    </tr>\n",
       "    <tr>\n",
       "      <th>1</th>\n",
       "      <td>Computer Laboratory, University of Cambridge,...</td>\n",
       "      <td>United Kingdom</td>\n",
       "      <td>Academia</td>\n",
       "    </tr>\n",
       "    <tr>\n",
       "      <th>2</th>\n",
       "      <td>audEERING UG, Gilching, Germany</td>\n",
       "      <td>Germany</td>\n",
       "      <td>Industry</td>\n",
       "    </tr>\n",
       "    <tr>\n",
       "      <th>3</th>\n",
       "      <td>audEERING UG, Gilching, Germany</td>\n",
       "      <td>Germany</td>\n",
       "      <td>Industry</td>\n",
       "    </tr>\n",
       "    <tr>\n",
       "      <th>4</th>\n",
       "      <td>audEERING UG, Gilching, Germany</td>\n",
       "      <td>Germany</td>\n",
       "      <td>Industry</td>\n",
       "    </tr>\n",
       "  </tbody>\n",
       "</table>\n",
       "</div>"
      ],
      "text/plain": [
       "                                         Affiliation CountryAffilitation  \\\n",
       "0  Computer Laboratory, University of Cambridge, ...      United Kingdom   \n",
       "1   Computer Laboratory, University of Cambridge,...      United Kingdom   \n",
       "2                    audEERING UG, Gilching, Germany             Germany   \n",
       "3                    audEERING UG, Gilching, Germany             Germany   \n",
       "4                    audEERING UG, Gilching, Germany             Germany   \n",
       "\n",
       "       Code  \n",
       "0  Academia  \n",
       "1  Academia  \n",
       "2  Industry  \n",
       "3  Industry  \n",
       "4  Industry  "
      ]
     },
     "execution_count": 45,
     "metadata": {},
     "output_type": "execute_result"
    }
   ],
   "source": [
    "df_2015[['Affiliation', 'CountryAffilitation', 'Code']].head() # Name column is not shown due to anonymity issues"
   ]
  },
  {
   "cell_type": "markdown",
   "metadata": {},
   "source": [
    "#### Substitute some countries to normalize the data"
   ]
  },
  {
   "cell_type": "code",
   "execution_count": 46,
   "metadata": {},
   "outputs": [],
   "source": [
    "def sustitute_country_names(df, col):\n",
    "    \n",
    "    df[col] = df[col].str.replace('UK','United Kingdom')\n",
    "    df[col] = df[col].str.replace('USA','United States')\n",
    "    df[col] = df[col].str.replace('US','United States')\n",
    "    df[col] = df[col].str.replace('Northern Ireland','United Kingdom')\n",
    "    df[col] = df[col].str.replace('N.Ireland','United Kingdom')\n",
    "    df[col] = df[col].str.replace('South Korea', 'Korea')\n",
    "    \n",
    "    return df"
   ]
  },
  {
   "cell_type": "markdown",
   "metadata": {},
   "source": [
    "### 3.1(Pre-processing) Import University-Country dataset\n",
    "\n",
    "As some Affiliations do not include the country, if we first substitute all universities in the imported dataframe by the corresponding Country, we will have left values with missing countries afterwards"
   ]
  },
  {
   "cell_type": "code",
   "execution_count": 47,
   "metadata": {},
   "outputs": [],
   "source": [
    "route = '' #route of univerisity datasets\n",
    "\n",
    "df_universities = pd.read_csv(route + '/university_dataset4.csv')\n",
    "df_universities = df_universities[['institution', 'country']]"
   ]
  },
  {
   "cell_type": "code",
   "execution_count": 51,
   "metadata": {},
   "outputs": [
    {
     "data": {
      "text/html": [
       "<div>\n",
       "<style scoped>\n",
       "    .dataframe tbody tr th:only-of-type {\n",
       "        vertical-align: middle;\n",
       "    }\n",
       "\n",
       "    .dataframe tbody tr th {\n",
       "        vertical-align: top;\n",
       "    }\n",
       "\n",
       "    .dataframe thead th {\n",
       "        text-align: right;\n",
       "    }\n",
       "</style>\n",
       "<table border=\"1\" class=\"dataframe\">\n",
       "  <thead>\n",
       "    <tr style=\"text-align: right;\">\n",
       "      <th></th>\n",
       "      <th>institution</th>\n",
       "      <th>country</th>\n",
       "    </tr>\n",
       "  </thead>\n",
       "  <tbody>\n",
       "    <tr>\n",
       "      <th>15</th>\n",
       "      <td>Swiss Federal Institute of Technology in Zurich</td>\n",
       "      <td>Switzerland</td>\n",
       "    </tr>\n",
       "    <tr>\n",
       "      <th>16</th>\n",
       "      <td>Kyoto University</td>\n",
       "      <td>Japan</td>\n",
       "    </tr>\n",
       "    <tr>\n",
       "      <th>17</th>\n",
       "      <td>Weizmann Institute of Science</td>\n",
       "      <td>Israel</td>\n",
       "    </tr>\n",
       "    <tr>\n",
       "      <th>18</th>\n",
       "      <td>University of California, Los Angeles</td>\n",
       "      <td>USA</td>\n",
       "    </tr>\n",
       "    <tr>\n",
       "      <th>19</th>\n",
       "      <td>University of California, San Diego</td>\n",
       "      <td>USA</td>\n",
       "    </tr>\n",
       "  </tbody>\n",
       "</table>\n",
       "</div>"
      ],
      "text/plain": [
       "                                        institution      country\n",
       "15  Swiss Federal Institute of Technology in Zurich  Switzerland\n",
       "16                                 Kyoto University        Japan\n",
       "17                    Weizmann Institute of Science       Israel\n",
       "18            University of California, Los Angeles          USA\n",
       "19              University of California, San Diego          USA"
      ]
     },
     "execution_count": 51,
     "metadata": {},
     "output_type": "execute_result"
    }
   ],
   "source": [
    "df_universities[15:20]"
   ]
  },
  {
   "cell_type": "markdown",
   "metadata": {},
   "source": [
    "#### Transform Universities dataset to dictionary in order to do the match with Affiliation Dataset"
   ]
  },
  {
   "cell_type": "code",
   "execution_count": 52,
   "metadata": {},
   "outputs": [],
   "source": [
    "def create_dict_from_df(df, cols):\n",
    "    \n",
    "    df = sustitute_country_names(df, cols[1])\n",
    "    dict_ = dict(zip(df[cols[0]], df[cols[1]]))\n",
    "    \n",
    "    return dict_"
   ]
  },
  {
   "cell_type": "code",
   "execution_count": 53,
   "metadata": {},
   "outputs": [],
   "source": [
    "universities_dict = create_dict_from_df(df_universities, ['institution', 'country'])"
   ]
  },
  {
   "cell_type": "markdown",
   "metadata": {},
   "source": [
    "#### Substitute universities values in Affiliation Dataset by the corresponding country"
   ]
  },
  {
   "cell_type": "code",
   "execution_count": 54,
   "metadata": {},
   "outputs": [],
   "source": [
    "def sustitute_university_by_country(df, dict_, col):\n",
    "    \n",
    "    for university, country in dict_.items():\n",
    "        df[col] = df[col].str.replace(str(university), str(country))\n",
    "        \n",
    "    return df"
   ]
  },
  {
   "cell_type": "code",
   "execution_count": 55,
   "metadata": {},
   "outputs": [],
   "source": [
    "def create_CountryAffiliation_column(df, orig_col, aff_col, countryaff_col):\n",
    "    \n",
    "    df[orig_col] = df[aff_col]\n",
    "    df = sustitute_country_names(df, aff_col)\n",
    "    #df = sustitute_country_names(df, orig_col)\n",
    "    df = sustitute_university_by_country(df, universities_dict, aff_col)\n",
    "\n",
    "    df[countryaff_col] = df[aff_col]\n",
    "    \n",
    "    return df"
   ]
  },
  {
   "cell_type": "markdown",
   "metadata": {},
   "source": [
    "<div class=\"alert alert-block alert-info\">\n",
    "<b> ACII </b>\n",
    "</div>"
   ]
  },
  {
   "cell_type": "code",
   "execution_count": 56,
   "metadata": {},
   "outputs": [
    {
     "name": "stderr",
     "output_type": "stream",
     "text": [
      "<ipython-input-55-8bb902437469>:3: SettingWithCopyWarning: \n",
      "A value is trying to be set on a copy of a slice from a DataFrame.\n",
      "Try using .loc[row_indexer,col_indexer] = value instead\n",
      "\n",
      "See the caveats in the documentation: https://pandas.pydata.org/pandas-docs/stable/user_guide/indexing.html#returning-a-view-versus-a-copy\n",
      "  df[orig_col] = df[aff_col]\n",
      "<ipython-input-46-92ddba75f44c>:4: SettingWithCopyWarning: \n",
      "A value is trying to be set on a copy of a slice from a DataFrame.\n",
      "Try using .loc[row_indexer,col_indexer] = value instead\n",
      "\n",
      "See the caveats in the documentation: https://pandas.pydata.org/pandas-docs/stable/user_guide/indexing.html#returning-a-view-versus-a-copy\n",
      "  df[col] = df[col].str.replace('USA','United States')\n",
      "<ipython-input-46-92ddba75f44c>:5: SettingWithCopyWarning: \n",
      "A value is trying to be set on a copy of a slice from a DataFrame.\n",
      "Try using .loc[row_indexer,col_indexer] = value instead\n",
      "\n",
      "See the caveats in the documentation: https://pandas.pydata.org/pandas-docs/stable/user_guide/indexing.html#returning-a-view-versus-a-copy\n",
      "  df[col] = df[col].str.replace('US','United States')\n",
      "<ipython-input-46-92ddba75f44c>:6: SettingWithCopyWarning: \n",
      "A value is trying to be set on a copy of a slice from a DataFrame.\n",
      "Try using .loc[row_indexer,col_indexer] = value instead\n",
      "\n",
      "See the caveats in the documentation: https://pandas.pydata.org/pandas-docs/stable/user_guide/indexing.html#returning-a-view-versus-a-copy\n",
      "  df[col] = df[col].str.replace('Northern Ireland','United Kingdom')\n",
      "<ipython-input-46-92ddba75f44c>:7: SettingWithCopyWarning: \n",
      "A value is trying to be set on a copy of a slice from a DataFrame.\n",
      "Try using .loc[row_indexer,col_indexer] = value instead\n",
      "\n",
      "See the caveats in the documentation: https://pandas.pydata.org/pandas-docs/stable/user_guide/indexing.html#returning-a-view-versus-a-copy\n",
      "  df[col] = df[col].str.replace('N.Ireland','United Kingdom')\n",
      "<ipython-input-46-92ddba75f44c>:8: SettingWithCopyWarning: \n",
      "A value is trying to be set on a copy of a slice from a DataFrame.\n",
      "Try using .loc[row_indexer,col_indexer] = value instead\n",
      "\n",
      "See the caveats in the documentation: https://pandas.pydata.org/pandas-docs/stable/user_guide/indexing.html#returning-a-view-versus-a-copy\n",
      "  df[col] = df[col].str.replace('South Korea', 'Korea')\n"
     ]
    }
   ],
   "source": [
    "if ACII == True:\n",
    "    df_2019_test = create_CountryAffiliation_column(df_2019_test, 'Affiliation_orig', 'Affiliation', 'CountryAffilitation')\n",
    "    df_2017_test = create_CountryAffiliation_column(df_2017_test, 'Affiliation_orig', 'Affiliation', 'CountryAffilitation')\n",
    "    df_2015_test = create_CountryAffiliation_column(df_2015_test, 'Affiliation_orig', 'Affiliation', 'CountryAffilitation')\n",
    "    df_2013_test = create_CountryAffiliation_column(df_2013_test, 'Affiliation_orig', 'Affiliation', 'CountryAffilitation')\n",
    "    df_2011_test = create_CountryAffiliation_column(df_2011_test, 'Affiliation_orig', 'Affiliation', 'CountryAffilitation')\n",
    "    df_2009_test = create_CountryAffiliation_column(df_2009_test, 'Affiliation_orig', 'Affiliation', 'CountryAffilitation')\n",
    "    df_2007_test = create_CountryAffiliation_column(df_2007_test, 'Affiliation_orig', 'Affiliation', 'CountryAffilitation')\n",
    "    df_2005_test = create_CountryAffiliation_column(df_2005_test, 'Affiliation_orig', 'Affiliation', 'CountryAffilitation')"
   ]
  },
  {
   "cell_type": "code",
   "execution_count": 58,
   "metadata": {},
   "outputs": [
    {
     "data": {
      "text/html": [
       "<div>\n",
       "<style scoped>\n",
       "    .dataframe tbody tr th:only-of-type {\n",
       "        vertical-align: middle;\n",
       "    }\n",
       "\n",
       "    .dataframe tbody tr th {\n",
       "        vertical-align: top;\n",
       "    }\n",
       "\n",
       "    .dataframe thead th {\n",
       "        text-align: right;\n",
       "    }\n",
       "</style>\n",
       "<table border=\"1\" class=\"dataframe\">\n",
       "  <thead>\n",
       "    <tr style=\"text-align: right;\">\n",
       "      <th></th>\n",
       "      <th>Affiliation</th>\n",
       "      <th>Affiliation_orig</th>\n",
       "      <th>CountryAffilitation</th>\n",
       "    </tr>\n",
       "  </thead>\n",
       "  <tbody>\n",
       "    <tr>\n",
       "      <th>0</th>\n",
       "      <td>Computer Laboratory, United Kingdom, Cambridge...</td>\n",
       "      <td>Computer Laboratory, University of Cambridge, ...</td>\n",
       "      <td>Computer Laboratory, United Kingdom, Cambridge...</td>\n",
       "    </tr>\n",
       "    <tr>\n",
       "      <th>1</th>\n",
       "      <td>Computer Laboratory, United Kingdom, Cambridg...</td>\n",
       "      <td>Computer Laboratory, University of Cambridge,...</td>\n",
       "      <td>Computer Laboratory, United Kingdom, Cambridg...</td>\n",
       "    </tr>\n",
       "    <tr>\n",
       "      <th>2</th>\n",
       "      <td>audEERING UG, Gilching, Germany</td>\n",
       "      <td>audEERING UG, Gilching, Germany</td>\n",
       "      <td>audEERING UG, Gilching, Germany</td>\n",
       "    </tr>\n",
       "    <tr>\n",
       "      <th>3</th>\n",
       "      <td>audEERING UG, Gilching, Germany</td>\n",
       "      <td>audEERING UG, Gilching, Germany</td>\n",
       "      <td>audEERING UG, Gilching, Germany</td>\n",
       "    </tr>\n",
       "    <tr>\n",
       "      <th>4</th>\n",
       "      <td>audEERING UG, Gilching, Germany</td>\n",
       "      <td>audEERING UG, Gilching, Germany</td>\n",
       "      <td>audEERING UG, Gilching, Germany</td>\n",
       "    </tr>\n",
       "  </tbody>\n",
       "</table>\n",
       "</div>"
      ],
      "text/plain": [
       "                                         Affiliation  \\\n",
       "0  Computer Laboratory, United Kingdom, Cambridge...   \n",
       "1   Computer Laboratory, United Kingdom, Cambridg...   \n",
       "2                    audEERING UG, Gilching, Germany   \n",
       "3                    audEERING UG, Gilching, Germany   \n",
       "4                    audEERING UG, Gilching, Germany   \n",
       "\n",
       "                                    Affiliation_orig  \\\n",
       "0  Computer Laboratory, University of Cambridge, ...   \n",
       "1   Computer Laboratory, University of Cambridge,...   \n",
       "2                    audEERING UG, Gilching, Germany   \n",
       "3                    audEERING UG, Gilching, Germany   \n",
       "4                    audEERING UG, Gilching, Germany   \n",
       "\n",
       "                                 CountryAffilitation  \n",
       "0  Computer Laboratory, United Kingdom, Cambridge...  \n",
       "1   Computer Laboratory, United Kingdom, Cambridg...  \n",
       "2                    audEERING UG, Gilching, Germany  \n",
       "3                    audEERING UG, Gilching, Germany  \n",
       "4                    audEERING UG, Gilching, Germany  "
      ]
     },
     "execution_count": 58,
     "metadata": {},
     "output_type": "execute_result"
    }
   ],
   "source": [
    "df_2015_test[['Affiliation', 'Affiliation_orig', 'CountryAffilitation']].head()"
   ]
  },
  {
   "cell_type": "markdown",
   "metadata": {},
   "source": [
    "The previous dataset shows:\n",
    "- **Affiliation** : takes the universities in the universities dictionary and substitute them by the corresponding country. For instance, in the first case University of Cambrigde substituted by United Kingdom.\n",
    "- **Affiliation_orig** : original affiliation column\n",
    "- **CountryAffiliation** : for now it does not mean anything, but it will contain the corresponding country to the affiliations."
   ]
  },
  {
   "cell_type": "markdown",
   "metadata": {},
   "source": [
    "### 3.3 Implementing library pycountry\n",
    "\n",
    "\n",
    "When there are two possible countries the last one is taken."
   ]
  },
  {
   "cell_type": "code",
   "execution_count": 59,
   "metadata": {},
   "outputs": [],
   "source": [
    "import pycountry\n",
    "import numpy as np\n",
    "\n",
    "def country_inference(df):\n",
    "\n",
    "    countries = {}\n",
    "    for affiliation in df.Affiliation:\n",
    "        if affiliation!= None:\n",
    "\n",
    "            #im also saving the values where there is no country inferred\n",
    "            for country in pycountry.countries:\n",
    "                text = affiliation\n",
    "\n",
    "                # to avoid null values\n",
    "                if text == text:\n",
    "\n",
    "                    if country.name in text:\n",
    "                        name = country.name\n",
    "                        countries[affiliation] = name\n",
    "                        \n",
    "                        \n",
    "    # Replace original values with country\n",
    "    df.CountryAffilitation = df.CountryAffilitation.replace(countries)\n",
    "\n",
    "    return df\n",
    "    "
   ]
  },
  {
   "cell_type": "code",
   "execution_count": 60,
   "metadata": {},
   "outputs": [],
   "source": [
    "def create_final_df(df, col, col_to_substitute):\n",
    "    \n",
    "    df = country_inference(df)\n",
    "    df = df.drop([col], axis=1)\n",
    "    df = df.rename(columns={col_to_substitute: col})\n",
    "    \n",
    "    return df"
   ]
  },
  {
   "cell_type": "markdown",
   "metadata": {},
   "source": [
    "<div class=\"alert alert-block alert-warning\">\n",
    "Pycountry library has a problem when reading Taiwan and Korea, manually infer this country.\n",
    "</div> \n",
    "\n",
    "\n"
   ]
  },
  {
   "cell_type": "code",
   "execution_count": 61,
   "metadata": {},
   "outputs": [],
   "source": [
    "def taiwan_korea_inference(df):\n",
    "    for i in df.index:\n",
    "        if 'Taiwan' in df['CountryAffilitation'].iloc[i]:\n",
    "            df.at[i, 'CountryAffilitation'] = 'Taiwan'\n",
    "            \n",
    "    for i in df.index:\n",
    "        if 'Korea' in df['CountryAffilitation'].iloc[i]:\n",
    "            df.at[i, 'CountryAffilitation'] = 'Korea'\n",
    "            \n",
    "    return df"
   ]
  },
  {
   "cell_type": "markdown",
   "metadata": {},
   "source": [
    "<div class=\"alert alert-block alert-info\">\n",
    "<b> ACII </b>\n",
    "</div>"
   ]
  },
  {
   "cell_type": "code",
   "execution_count": 62,
   "metadata": {},
   "outputs": [],
   "source": [
    "if ACII == True:\n",
    "    df_2019_test = create_final_df(df_2019_test, 'Affiliation', 'Affiliation_orig')\n",
    "    df_2017_test = create_final_df(df_2017_test, 'Affiliation', 'Affiliation_orig')\n",
    "    df_2015_test = create_final_df(df_2015_test, 'Affiliation', 'Affiliation_orig')\n",
    "    df_2013_test = create_final_df(df_2013_test, 'Affiliation', 'Affiliation_orig')\n",
    "    df_2011_test = create_final_df(df_2011_test, 'Affiliation', 'Affiliation_orig')\n",
    "    df_2009_test = create_final_df(df_2009_test, 'Affiliation', 'Affiliation_orig')\n",
    "    df_2007_test = create_final_df(df_2007_test, 'Affiliation', 'Affiliation_orig')\n",
    "    df_2005_test = create_final_df(df_2005_test, 'Affiliation', 'Affiliation_orig')\n",
    "\n",
    "    df_2019_test.head()"
   ]
  },
  {
   "cell_type": "code",
   "execution_count": 63,
   "metadata": {},
   "outputs": [],
   "source": [
    "if ACII == True:\n",
    "    df_2019_test = taiwan_korea_inference(df_2019_test)\n",
    "    df_2017_test = taiwan_korea_inference(df_2017_test)\n",
    "    df_2015_test = taiwan_korea_inference(df_2015_test)\n",
    "    df_2013_test = taiwan_korea_inference(df_2013_test)\n",
    "    df_2011_test = taiwan_korea_inference(df_2011_test)\n",
    "    df_2009_test = taiwan_korea_inference(df_2009_test)\n",
    "    df_2007_test = taiwan_korea_inference(df_2007_test)\n",
    "    df_2005_test = taiwan_korea_inference(df_2005_test)"
   ]
  },
  {
   "cell_type": "markdown",
   "metadata": {},
   "source": [
    "#### Rows with no AffiliationCountry value"
   ]
  },
  {
   "cell_type": "code",
   "execution_count": 66,
   "metadata": {},
   "outputs": [],
   "source": [
    "def country_affiliation_missing(df):\n",
    "    \n",
    "    no_countryaffiliation = df[(df.Affiliation == df.CountryAffilitation) | (df.CountryAffilitation.isna())] \n",
    "    print('There are', len(no_countryaffiliation),'rows out of', len(df),'with missing AffiliationCountry value')\n",
    "    \n",
    "    for i in df.index:\n",
    "        if df.Affiliation.iloc[i] == df.CountryAffilitation.iloc[i]:\n",
    "            df.at[i, 'CountryAffilitation'] = np.nan\n",
    "    \n",
    "    return df, no_countryaffiliation"
   ]
  },
  {
   "cell_type": "markdown",
   "metadata": {},
   "source": [
    "<div class=\"alert alert-block alert-info\">\n",
    "<b> ACII </b>\n",
    "</div>"
   ]
  },
  {
   "cell_type": "code",
   "execution_count": 67,
   "metadata": {},
   "outputs": [
    {
     "name": "stdout",
     "output_type": "stream",
     "text": [
      "There are 24 rows out of 472 with missing AffiliationCountry value\n",
      "There are 21 rows out of 347 with missing AffiliationCountry value\n",
      "There are 27 rows out of 620 with missing AffiliationCountry value\n",
      "There are 4 rows out of 556 with missing AffiliationCountry value\n",
      "There are 134 rows out of 431 with missing AffiliationCountry value\n",
      "There are 44 rows out of 510 with missing AffiliationCountry value\n",
      "There are 105 rows out of 281 with missing AffiliationCountry value\n",
      "There are 70 rows out of 304 with missing AffiliationCountry value\n"
     ]
    }
   ],
   "source": [
    "if ACII == True:\n",
    "    df_2019_test, df_2019_test_nocountry = country_affiliation_missing(df_2019_test)\n",
    "    df_2017_test, df_2017_test_nocountry = country_affiliation_missing(df_2017_test)\n",
    "    df_2015_test, df_2015_test_nocountry = country_affiliation_missing(df_2015_test)\n",
    "    df_2013_test, df_2013_test_nocountry = country_affiliation_missing(df_2013_test)\n",
    "    df_2011_test, df_2011_test_nocountry = country_affiliation_missing(df_2011_test)\n",
    "    df_2009_test, df_2009_test_nocountry = country_affiliation_missing(df_2009_test)\n",
    "    df_2007_test, df_2007_test_nocountry = country_affiliation_missing(df_2007_test)\n",
    "    df_2005_test, df_2005_test_nocountry = country_affiliation_missing(df_2005_test)"
   ]
  },
  {
   "cell_type": "code",
   "execution_count": 71,
   "metadata": {},
   "outputs": [
    {
     "data": {
      "text/plain": [
       "54     Army Research Laboratory, Los Angeles, California\n",
       "96     School of Computer and Information, Hefei Univ...\n",
       "97      School of Computer and Information, Hefei Uni...\n",
       "99      School of Computer and Information, Hefei Uni...\n",
       "131                    audEERING GmbH, Gilching, Germnay\n",
       "133    Department of Computer Science, State Universi...\n",
       "134     Department of Computer Science, State Univers...\n",
       "162                     University of Bari �?Aldo Moro�?\n",
       "163                     University of Bari �?Aldo Moro�?\n",
       "164                     University of Bari �?Aldo Moro�?\n",
       "Name: Affiliation, dtype: object"
      ]
     },
     "execution_count": 71,
     "metadata": {},
     "output_type": "execute_result"
    }
   ],
   "source": [
    "# Examples of affiliations where the country could not be inferred\n",
    "df_2017_test_nocountry[0:len(df_2015_test_nocountry)][0:10]['Affiliation']"
   ]
  },
  {
   "cell_type": "markdown",
   "metadata": {},
   "source": [
    "<div class=\"alert alert-block alert-warning\">\n",
    "    <b>TEST : manually inferring location in order to see how my implementation works</b>\n",
    "    <br>\n",
    "    \n",
    "The ACII Conference was already labelled and revised manually, therefore the accuracy of the new method develped was checked using this as ground truth.\n",
    "</div> "
   ]
  },
  {
   "cell_type": "code",
   "execution_count": 72,
   "metadata": {},
   "outputs": [],
   "source": [
    "def wrong_country(df):\n",
    "    for i in df.index:\n",
    "        if df.CountryAffilitation.iloc[i] != df.CountryAffiliation_infered.iloc[i]:\n",
    "            df.at[i, 'WrongCountry'] = 'Yes'\n",
    "        else:\n",
    "            df.at[i,'WrongCountry'] = 'No'\n",
    "    return df"
   ]
  },
  {
   "cell_type": "markdown",
   "metadata": {},
   "source": [
    "<div class=\"alert alert-block alert-info\">\n",
    "<b> ACII </b>\n",
    "</div>"
   ]
  },
  {
   "cell_type": "code",
   "execution_count": 73,
   "metadata": {},
   "outputs": [],
   "source": [
    "if ACII == True:\n",
    "    df_2019['CountryAffiliation_infered']= df_2019_test.CountryAffilitation\n",
    "    df_2017['CountryAffiliation_infered']= df_2017_test.CountryAffilitation\n",
    "    df_2015['CountryAffiliation_infered']= df_2015_test.CountryAffilitation\n",
    "    df_2013['CountryAffiliation_infered']= df_2013_test.CountryAffilitation\n",
    "    df_2011['CountryAffiliation_infered']= df_2011_test.CountryAffilitation\n",
    "    df_2009['CountryAffiliation_infered']= df_2009_test.CountryAffilitation\n",
    "    df_2007['CountryAffiliation_infered']= df_2007_test.CountryAffilitation\n",
    "    df_2005['CountryAffiliation_infered']= df_2005_test.CountryAffilitation"
   ]
  },
  {
   "cell_type": "code",
   "execution_count": 74,
   "metadata": {},
   "outputs": [],
   "source": [
    " if ACII == True:\n",
    "    count_2019 = (len(df_2019[df_2019.CountryAffilitation != df_2019.CountryAffiliation_infered])/len(df_2019))*100\n",
    "    count_2017 = (len(df_2017[df_2017.CountryAffilitation != df_2017.CountryAffiliation_infered])/len(df_2017))*100\n",
    "    count_2015 = (len(df_2015[df_2015.CountryAffilitation != df_2015.CountryAffiliation_infered])/len(df_2015))*100\n",
    "    count_2013 = (len(df_2013[df_2013.CountryAffilitation != df_2013.CountryAffiliation_infered])/len(df_2013))*100\n",
    "    count_2011 = (len(df_2011[df_2011.CountryAffilitation != df_2011.CountryAffiliation_infered])/len(df_2011))*100\n",
    "    count_2009 = (len(df_2009[df_2009.CountryAffilitation != df_2009.CountryAffiliation_infered])/len(df_2009))*100\n",
    "    count_2007 = (len(df_2007[df_2007.CountryAffilitation != df_2007.CountryAffiliation_infered])/len(df_2007))*100\n",
    "    count_2005 = (len(df_2005[df_2005.CountryAffilitation != df_2005.CountryAffiliation_infered])/len(df_2005))*100\n",
    "    \n",
    "    count_not_2019 = (len(df_2019_test_nocountry)/len(df_2019_test))*100\n",
    "    count_not_2017 = (len(df_2017_test_nocountry)/len(df_2017_test))*100\n",
    "    count_not_2015 = (len(df_2015_test_nocountry)/len(df_2015_test))*100\n",
    "    count_not_2013 = (len(df_2013_test_nocountry)/len(df_2013_test))*100\n",
    "    count_not_2011 = (len(df_2011_test_nocountry)/len(df_2011_test))*100\n",
    "    count_not_2009 = (len(df_2009_test_nocountry)/len(df_2009_test))*100\n",
    "    count_not_2007 = (len(df_2007_test_nocountry)/len(df_2007_test))*100\n",
    "    count_not_2005 = (len(df_2005_test_nocountry)/len(df_2005_test))*100\n",
    "    \n",
    "    acc_2019 = (1- (count_2019/100))*100\n",
    "    acc_2017 = (1- (count_2017/100))*100\n",
    "    acc_2015 = (1- (count_2015/100))*100\n",
    "    acc_2013 = (1- (count_2013/100))*100\n",
    "    acc_2011 = (1- (count_2011/100))*100\n",
    "    acc_2009 = (1- (count_2009/100))*100\n",
    "    acc_2007 = (1- (count_2007/100))*100\n",
    "    acc_2005 = (1- (count_2005/100))*100\n",
    "    acc = [acc_2019, acc_2017, acc_2015, acc_2013, acc_2011, acc_2009, acc_2007, acc_2005]"
   ]
  },
  {
   "cell_type": "code",
   "execution_count": 75,
   "metadata": {},
   "outputs": [
    {
     "name": "stdout",
     "output_type": "stream",
     "text": [
      "MEAN ACCURACY OF COUNTRY INFERENCE: 85.222 %\n"
     ]
    },
    {
     "data": {
      "text/html": [
       "<div>\n",
       "<style scoped>\n",
       "    .dataframe tbody tr th:only-of-type {\n",
       "        vertical-align: middle;\n",
       "    }\n",
       "\n",
       "    .dataframe tbody tr th {\n",
       "        vertical-align: top;\n",
       "    }\n",
       "\n",
       "    .dataframe thead th {\n",
       "        text-align: right;\n",
       "    }\n",
       "</style>\n",
       "<table border=\"1\" class=\"dataframe\">\n",
       "  <thead>\n",
       "    <tr style=\"text-align: right;\">\n",
       "      <th></th>\n",
       "      <th>2019</th>\n",
       "      <th>2017</th>\n",
       "      <th>2015</th>\n",
       "      <th>2013</th>\n",
       "      <th>2011</th>\n",
       "      <th>2009</th>\n",
       "      <th>2007</th>\n",
       "      <th>2005</th>\n",
       "    </tr>\n",
       "  </thead>\n",
       "  <tbody>\n",
       "    <tr>\n",
       "      <th>% of countries NOT coinciding with ground truth</th>\n",
       "      <td>5.08 %</td>\n",
       "      <td>6.92 %</td>\n",
       "      <td>4.35 %</td>\n",
       "      <td>0.72 %</td>\n",
       "      <td>31.09 %</td>\n",
       "      <td>8.63 %</td>\n",
       "      <td>38.08 %</td>\n",
       "      <td>23.36 %</td>\n",
       "    </tr>\n",
       "    <tr>\n",
       "      <th>% of countries NOT inferred</th>\n",
       "      <td>5.08 %</td>\n",
       "      <td>6.05 %</td>\n",
       "      <td>4.35 %</td>\n",
       "      <td>0.72 %</td>\n",
       "      <td>31.09 %</td>\n",
       "      <td>8.63 %</td>\n",
       "      <td>37.37 %</td>\n",
       "      <td>23.03 %</td>\n",
       "    </tr>\n",
       "    <tr>\n",
       "      <th>ACCURACY</th>\n",
       "      <td>94.92 %</td>\n",
       "      <td>93.08 %</td>\n",
       "      <td>95.65 %</td>\n",
       "      <td>99.28 %</td>\n",
       "      <td>68.91 %</td>\n",
       "      <td>91.37 %</td>\n",
       "      <td>61.92 %</td>\n",
       "      <td>76.64 %</td>\n",
       "    </tr>\n",
       "  </tbody>\n",
       "</table>\n",
       "</div>"
      ],
      "text/plain": [
       "                                                    2019     2017     2015  \\\n",
       "% of countries NOT coinciding with ground truth   5.08 %   6.92 %   4.35 %   \n",
       "% of countries NOT inferred                       5.08 %   6.05 %   4.35 %   \n",
       "ACCURACY                                         94.92 %  93.08 %  95.65 %   \n",
       "\n",
       "                                                    2013     2011     2009  \\\n",
       "% of countries NOT coinciding with ground truth   0.72 %  31.09 %   8.63 %   \n",
       "% of countries NOT inferred                       0.72 %  31.09 %   8.63 %   \n",
       "ACCURACY                                         99.28 %  68.91 %  91.37 %   \n",
       "\n",
       "                                                    2007     2005  \n",
       "% of countries NOT coinciding with ground truth  38.08 %  23.36 %  \n",
       "% of countries NOT inferred                      37.37 %  23.03 %  \n",
       "ACCURACY                                         61.92 %  76.64 %  "
      ]
     },
     "execution_count": 75,
     "metadata": {},
     "output_type": "execute_result"
    }
   ],
   "source": [
    "if ACII == True:\n",
    "    data = {'2019':[count_2019, count_not_2019, acc_2019],\n",
    "            '2017':[count_2017, count_not_2017, acc_2017],\n",
    "            '2015':[count_2015, count_not_2015, acc_2015],\n",
    "            '2013':[count_2013, count_not_2013, acc_2013],\n",
    "            '2011':[count_2011, count_not_2011, acc_2011],\n",
    "            '2009':[count_2009, count_not_2009, acc_2009],\n",
    "            '2007':[count_2007, count_not_2007, acc_2007],\n",
    "            '2005':[count_2005, count_not_2005, acc_2005]}\n",
    "    \n",
    "    df_results = pd.DataFrame(data, index =[\n",
    "                                    '% of countries NOT coinciding with ground truth',\n",
    "        '% of countries NOT inferred ',\n",
    "                                    'ACCURACY'])\n",
    "    \n",
    "    df_results = df_results.round(2)\n",
    "    \n",
    "    for i in df_results.columns:\n",
    "        df_results[i] =  df_results[i].astype(str) + ' %'\n",
    "    \n",
    "    mean_acc = np.mean(acc).round(3)\n",
    "        \n",
    "    print('MEAN ACCURACY OF COUNTRY INFERENCE:', mean_acc, '%')\n",
    "df_results.head()"
   ]
  },
  {
   "cell_type": "code",
   "execution_count": 76,
   "metadata": {},
   "outputs": [],
   "source": [
    "if ACII == True:\n",
    "    df_2019 = wrong_country(df_2019)\n",
    "    df_2017 = wrong_country(df_2017)\n",
    "    df_2015 = wrong_country(df_2015)\n",
    "    df_2013 = wrong_country(df_2013)\n",
    "    df_2011 = wrong_country(df_2011)\n",
    "    df_2009 = wrong_country(df_2009)\n",
    "    df_2007 = wrong_country(df_2007)\n",
    "    df_2005 = wrong_country(df_2005)"
   ]
  },
  {
   "cell_type": "code",
   "execution_count": 84,
   "metadata": {
    "scrolled": false
   },
   "outputs": [
    {
     "data": {
      "text/html": [
       "<div>\n",
       "<style scoped>\n",
       "    .dataframe tbody tr th:only-of-type {\n",
       "        vertical-align: middle;\n",
       "    }\n",
       "\n",
       "    .dataframe tbody tr th {\n",
       "        vertical-align: top;\n",
       "    }\n",
       "\n",
       "    .dataframe thead th {\n",
       "        text-align: right;\n",
       "    }\n",
       "</style>\n",
       "<table border=\"1\" class=\"dataframe\">\n",
       "  <thead>\n",
       "    <tr style=\"text-align: right;\">\n",
       "      <th></th>\n",
       "      <th>Affiliation</th>\n",
       "      <th>CountryAffilitation</th>\n",
       "      <th>CountryAffiliation_infered</th>\n",
       "      <th>WrongCountry</th>\n",
       "    </tr>\n",
       "  </thead>\n",
       "  <tbody>\n",
       "    <tr>\n",
       "      <th>0</th>\n",
       "      <td>National Laboratory of Pattern Recognition (NL...</td>\n",
       "      <td>China</td>\n",
       "      <td>China</td>\n",
       "      <td>No</td>\n",
       "    </tr>\n",
       "    <tr>\n",
       "      <th>1</th>\n",
       "      <td>National Laboratory of Pattern Recognition (NL...</td>\n",
       "      <td>China</td>\n",
       "      <td>China</td>\n",
       "      <td>No</td>\n",
       "    </tr>\n",
       "    <tr>\n",
       "      <th>2</th>\n",
       "      <td>National Laboratory of Pattern Recognition (NL...</td>\n",
       "      <td>China</td>\n",
       "      <td>China</td>\n",
       "      <td>No</td>\n",
       "    </tr>\n",
       "    <tr>\n",
       "      <th>3</th>\n",
       "      <td>National Laboratory of Pattern Recognition (NL...</td>\n",
       "      <td>China</td>\n",
       "      <td>China</td>\n",
       "      <td>No</td>\n",
       "    </tr>\n",
       "    <tr>\n",
       "      <th>4</th>\n",
       "      <td>IUT de Monreuil, Universit?? Paris 8</td>\n",
       "      <td>France</td>\n",
       "      <td>NaN</td>\n",
       "      <td>Yes</td>\n",
       "    </tr>\n",
       "    <tr>\n",
       "      <th>5</th>\n",
       "      <td>IUT de Monreuil, Universit?? Paris 8</td>\n",
       "      <td>France</td>\n",
       "      <td>NaN</td>\n",
       "      <td>Yes</td>\n",
       "    </tr>\n",
       "    <tr>\n",
       "      <th>6</th>\n",
       "      <td>Department of Computer Science and Technology,...</td>\n",
       "      <td>China</td>\n",
       "      <td>China</td>\n",
       "      <td>No</td>\n",
       "    </tr>\n",
       "    <tr>\n",
       "      <th>7</th>\n",
       "      <td>Department of Systems Engineering and Engineer...</td>\n",
       "      <td>Hong Kong</td>\n",
       "      <td>Hong Kong</td>\n",
       "      <td>No</td>\n",
       "    </tr>\n",
       "    <tr>\n",
       "      <th>8</th>\n",
       "      <td>Department of Systems Engineering and Engineer...</td>\n",
       "      <td>Hong Kong</td>\n",
       "      <td>Hong Kong</td>\n",
       "      <td>No</td>\n",
       "    </tr>\n",
       "    <tr>\n",
       "      <th>9</th>\n",
       "      <td>Department of Computer Science and Technology,...</td>\n",
       "      <td>China</td>\n",
       "      <td>China</td>\n",
       "      <td>No</td>\n",
       "    </tr>\n",
       "  </tbody>\n",
       "</table>\n",
       "</div>"
      ],
      "text/plain": [
       "                                         Affiliation CountryAffilitation  \\\n",
       "0  National Laboratory of Pattern Recognition (NL...               China   \n",
       "1  National Laboratory of Pattern Recognition (NL...               China   \n",
       "2  National Laboratory of Pattern Recognition (NL...               China   \n",
       "3  National Laboratory of Pattern Recognition (NL...               China   \n",
       "4               IUT de Monreuil, Universit?? Paris 8              France   \n",
       "5               IUT de Monreuil, Universit?? Paris 8              France   \n",
       "6  Department of Computer Science and Technology,...               China   \n",
       "7  Department of Systems Engineering and Engineer...           Hong Kong   \n",
       "8  Department of Systems Engineering and Engineer...           Hong Kong   \n",
       "9  Department of Computer Science and Technology,...               China   \n",
       "\n",
       "  CountryAffiliation_infered WrongCountry  \n",
       "0                      China           No  \n",
       "1                      China           No  \n",
       "2                      China           No  \n",
       "3                      China           No  \n",
       "4                        NaN          Yes  \n",
       "5                        NaN          Yes  \n",
       "6                      China           No  \n",
       "7                  Hong Kong           No  \n",
       "8                  Hong Kong           No  \n",
       "9                      China           No  "
      ]
     },
     "execution_count": 84,
     "metadata": {},
     "output_type": "execute_result"
    }
   ],
   "source": [
    "df_2007[['Affiliation', 'CountryAffilitation', 'CountryAffiliation_infered', 'WrongCountry']][0:10]"
   ]
  }
 ],
 "metadata": {
  "kernelspec": {
   "display_name": "Python 3",
   "language": "python",
   "name": "python3"
  },
  "language_info": {
   "codemirror_mode": {
    "name": "ipython",
    "version": 3
   },
   "file_extension": ".py",
   "mimetype": "text/x-python",
   "name": "python",
   "nbconvert_exporter": "python",
   "pygments_lexer": "ipython3",
   "version": "3.8.5"
  }
 },
 "nbformat": 4,
 "nbformat_minor": 4
}
