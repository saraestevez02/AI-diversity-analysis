{
 "cells": [
  {
   "cell_type": "markdown",
   "metadata": {},
   "source": [
    "## Step 3: COUNTRY-BASED LOCATION INFERENCE<a class=\"anchor\\\" id=\"localization\"></a>\n",
    "\n",
    "\n",
    "\n",
    "<div class=\"alert alert-block alert-success\">\n",
    "In order to infer the location the library pycountry will be used. It reads the string passed as input and extracts the country. \n",
    "    \n",
    "Those affiliations not providing the the location in form of CountryName in the AffiliationName cannot be classified (they are a few percentage).\n",
    "</div>\n",
    "\n"
   ]
  },
  {
   "cell_type": "markdown",
   "metadata": {},
   "source": [
    "<div class=\"alert alert-block alert-warning\">\n",
    "    <b>IMPROVING COUNTRY AFFILIATION</b>\n",
    "    <br>\n",
    "    \n",
    "- Using PYCOUNTRY library\n",
    "- Importing a university dataset and pre-process the data before using PYCOUNTRY\n",
    "\n",
    "</div> \n",
    "\n"
   ]
  },
  {
   "cell_type": "markdown",
   "metadata": {},
   "source": [
    "#### Substitute some countries to normalize the data"
   ]
  },
  {
   "cell_type": "code",
   "execution_count": 89,
   "metadata": {},
   "outputs": [],
   "source": [
    "def sustitute_country_names(df, col):\n",
    "    \n",
    "    df[col] = df[col].str.replace('UK','United Kingdom')\n",
    "    df[col] = df[col].str.replace('USA','United States')\n",
    "    df[col] = df[col].str.replace('US','United States')\n",
    "    df[col] = df[col].str.replace('Northern Ireland','United Kingdom')\n",
    "    df[col] = df[col].str.replace('N.Ireland','United Kingdom')\n",
    "    df[col] = df[col].str.replace('South Korea', 'Korea')\n",
    "    \n",
    "    return df"
   ]
  },
  {
   "cell_type": "markdown",
   "metadata": {},
   "source": [
    "### 3.1(Pre-processing) Import University-Country dataset\n",
    "\n",
    "As some Affiliations do not include the country, if we first substitute all universities in the imported dataframe by the corresponding Country, we will have left values with missing countries afterwards"
   ]
  },
  {
   "cell_type": "code",
   "execution_count": 90,
   "metadata": {},
   "outputs": [],
   "source": [
    "route = '' #route of univerisity dataset\n",
    "\n",
    "df_universities = pd.read_csv(route + '/university_dataset4.csv')\n",
    "df_universities = df_universities[['institution', 'country']]"
   ]
  },
  {
   "cell_type": "code",
   "execution_count": 91,
   "metadata": {},
   "outputs": [
    {
     "data": {
      "text/html": [
       "<div>\n",
       "<style scoped>\n",
       "    .dataframe tbody tr th:only-of-type {\n",
       "        vertical-align: middle;\n",
       "    }\n",
       "\n",
       "    .dataframe tbody tr th {\n",
       "        vertical-align: top;\n",
       "    }\n",
       "\n",
       "    .dataframe thead th {\n",
       "        text-align: right;\n",
       "    }\n",
       "</style>\n",
       "<table border=\"1\" class=\"dataframe\">\n",
       "  <thead>\n",
       "    <tr style=\"text-align: right;\">\n",
       "      <th></th>\n",
       "      <th>institution</th>\n",
       "      <th>country</th>\n",
       "    </tr>\n",
       "  </thead>\n",
       "  <tbody>\n",
       "    <tr>\n",
       "      <th>15</th>\n",
       "      <td>Swiss Federal Institute of Technology in Zurich</td>\n",
       "      <td>Switzerland</td>\n",
       "    </tr>\n",
       "    <tr>\n",
       "      <th>16</th>\n",
       "      <td>Kyoto University</td>\n",
       "      <td>Japan</td>\n",
       "    </tr>\n",
       "    <tr>\n",
       "      <th>17</th>\n",
       "      <td>Weizmann Institute of Science</td>\n",
       "      <td>Israel</td>\n",
       "    </tr>\n",
       "    <tr>\n",
       "      <th>18</th>\n",
       "      <td>University of California, Los Angeles</td>\n",
       "      <td>USA</td>\n",
       "    </tr>\n",
       "    <tr>\n",
       "      <th>19</th>\n",
       "      <td>University of California, San Diego</td>\n",
       "      <td>USA</td>\n",
       "    </tr>\n",
       "  </tbody>\n",
       "</table>\n",
       "</div>"
      ],
      "text/plain": [
       "                                        institution      country\n",
       "15  Swiss Federal Institute of Technology in Zurich  Switzerland\n",
       "16                                 Kyoto University        Japan\n",
       "17                    Weizmann Institute of Science       Israel\n",
       "18            University of California, Los Angeles          USA\n",
       "19              University of California, San Diego          USA"
      ]
     },
     "execution_count": 91,
     "metadata": {},
     "output_type": "execute_result"
    }
   ],
   "source": [
    "df_universities[15:20]"
   ]
  },
  {
   "cell_type": "markdown",
   "metadata": {},
   "source": [
    "#### Transform Universities dataset to dictionary in order to do the match with Affiliation Dataset"
   ]
  },
  {
   "cell_type": "code",
   "execution_count": 92,
   "metadata": {},
   "outputs": [],
   "source": [
    "def create_dict_from_df(df, cols):\n",
    "    \n",
    "    df = sustitute_country_names(df, cols[1])\n",
    "    dict_ = dict(zip(df[cols[0]], df[cols[1]]))\n",
    "    \n",
    "    return dict_"
   ]
  },
  {
   "cell_type": "code",
   "execution_count": 93,
   "metadata": {},
   "outputs": [],
   "source": [
    "universities_dict = create_dict_from_df(df_universities, ['institution', 'country'])"
   ]
  },
  {
   "cell_type": "markdown",
   "metadata": {},
   "source": [
    "#### Substitute universities values in Affiliation Dataset by the corresponding country"
   ]
  },
  {
   "cell_type": "code",
   "execution_count": 94,
   "metadata": {},
   "outputs": [],
   "source": [
    "def sustitute_university_by_country(df, dict_, col):\n",
    "    \n",
    "    for university, country in dict_.items():\n",
    "        df[col] = df[col].str.replace(str(university), str(country))\n",
    "        \n",
    "    return df"
   ]
  },
  {
   "cell_type": "code",
   "execution_count": 95,
   "metadata": {},
   "outputs": [],
   "source": [
    "def create_CountryAffiliation_column(df, orig_col, aff_col, countryaff_col):\n",
    "    \n",
    "    df[orig_col] = df[aff_col]\n",
    "    df = sustitute_country_names(df, aff_col)\n",
    "    #df = sustitute_country_names(df, orig_col)\n",
    "    df = sustitute_university_by_country(df, universities_dict, aff_col)\n",
    "\n",
    "    df[countryaff_col] = df[aff_col]\n",
    "    \n",
    "    return df"
   ]
  },
  {
   "cell_type": "markdown",
   "metadata": {},
   "source": [
    "<div class=\"alert alert-block alert-info\">\n",
    "<b> DBLP Conference </b>\n",
    "</div>"
   ]
  },
  {
   "cell_type": "code",
   "execution_count": 111,
   "metadata": {},
   "outputs": [
    {
     "data": {
      "text/html": [
       "<div>\n",
       "<style scoped>\n",
       "    .dataframe tbody tr th:only-of-type {\n",
       "        vertical-align: middle;\n",
       "    }\n",
       "\n",
       "    .dataframe tbody tr th {\n",
       "        vertical-align: top;\n",
       "    }\n",
       "\n",
       "    .dataframe thead th {\n",
       "        text-align: right;\n",
       "    }\n",
       "</style>\n",
       "<table border=\"1\" class=\"dataframe\">\n",
       "  <thead>\n",
       "    <tr style=\"text-align: right;\">\n",
       "      <th></th>\n",
       "      <th>Url</th>\n",
       "      <th>Conference</th>\n",
       "      <th>Affiliation</th>\n",
       "      <th>Gender</th>\n",
       "      <th>Affiliation_orig</th>\n",
       "      <th>CountryAffilitation</th>\n",
       "    </tr>\n",
       "  </thead>\n",
       "  <tbody>\n",
       "    <tr>\n",
       "      <th>0</th>\n",
       "      <td>https://dblp.org/pid/08/4162.html</td>\n",
       "      <td>UAI 2019</td>\n",
       "      <td>Israel, Israel</td>\n",
       "      <td>Male</td>\n",
       "      <td>Hebrew University of Jerusalem, Israel</td>\n",
       "      <td>Israel, Israel</td>\n",
       "    </tr>\n",
       "    <tr>\n",
       "      <th>1</th>\n",
       "      <td>https://dblp.org/pid/42/2642.html</td>\n",
       "      <td>UAI 2019</td>\n",
       "      <td>NaN</td>\n",
       "      <td>Male</td>\n",
       "      <td>NaN</td>\n",
       "      <td>NaN</td>\n",
       "    </tr>\n",
       "    <tr>\n",
       "      <th>2</th>\n",
       "      <td>https://dblp.org/pid/163/3862.html</td>\n",
       "      <td>UAI 2019</td>\n",
       "      <td>NaN</td>\n",
       "      <td>Male</td>\n",
       "      <td>NaN</td>\n",
       "      <td>NaN</td>\n",
       "    </tr>\n",
       "    <tr>\n",
       "      <th>3</th>\n",
       "      <td>https://dblp.org/pid/f/BoiFaltings.html</td>\n",
       "      <td>UAI 2019</td>\n",
       "      <td>Switzerland, Switzerland</td>\n",
       "      <td>Male</td>\n",
       "      <td>Swiss Federal Institute of Technology in Lausa...</td>\n",
       "      <td>Switzerland, Switzerland</td>\n",
       "    </tr>\n",
       "    <tr>\n",
       "      <th>4</th>\n",
       "      <td>https://dblp.org/pid/181/2834.html</td>\n",
       "      <td>UAI 2019</td>\n",
       "      <td>NaN</td>\n",
       "      <td>Male</td>\n",
       "      <td>NaN</td>\n",
       "      <td>NaN</td>\n",
       "    </tr>\n",
       "  </tbody>\n",
       "</table>\n",
       "</div>"
      ],
      "text/plain": [
       "                                       Url Conference  \\\n",
       "0        https://dblp.org/pid/08/4162.html   UAI 2019   \n",
       "1        https://dblp.org/pid/42/2642.html   UAI 2019   \n",
       "2       https://dblp.org/pid/163/3862.html   UAI 2019   \n",
       "3  https://dblp.org/pid/f/BoiFaltings.html   UAI 2019   \n",
       "4       https://dblp.org/pid/181/2834.html   UAI 2019   \n",
       "\n",
       "                 Affiliation Gender  \\\n",
       "0            Israel, Israel    Male   \n",
       "1                        NaN   Male   \n",
       "2                        NaN   Male   \n",
       "3  Switzerland, Switzerland    Male   \n",
       "4                        NaN   Male   \n",
       "\n",
       "                                    Affiliation_orig  \\\n",
       "0            Hebrew University of Jerusalem, Israel    \n",
       "1                                                NaN   \n",
       "2                                                NaN   \n",
       "3  Swiss Federal Institute of Technology in Lausa...   \n",
       "4                                                NaN   \n",
       "\n",
       "         CountryAffilitation  \n",
       "0            Israel, Israel   \n",
       "1                        NaN  \n",
       "2                        NaN  \n",
       "3  Switzerland, Switzerland   \n",
       "4                        NaN  "
      ]
     },
     "execution_count": 111,
     "metadata": {},
     "output_type": "execute_result"
    }
   ],
   "source": [
    "df_complete = create_CountryAffiliation_column(df_complete, 'Affiliation_orig', 'Affiliation', 'CountryAffilitation')\n",
    "df_complete[['Url','Conference','Affiliation','Gender','Affiliation_orig','CountryAffilitation']].head()"
   ]
  },
  {
   "cell_type": "markdown",
   "metadata": {},
   "source": [
    "#### If we have a list of Affiliations we can also use this method to infer country"
   ]
  },
  {
   "cell_type": "code",
   "execution_count": null,
   "metadata": {},
   "outputs": [],
   "source": [
    "# route = '' # route of the csv with the affiliation information\n",
    "# df_complete = pd.read_csv(route)\n",
    "# df_complete = create_CountryAffiliation_column(df_complete, 'Affiliation_orig', 'Affiliation', 'CountryAffilitation')"
   ]
  },
  {
   "cell_type": "markdown",
   "metadata": {},
   "source": [
    "### 3.3 Implementing library pycountry\n",
    "\n",
    "\n",
    "When there are two possible countries the last one is taken."
   ]
  },
  {
   "cell_type": "code",
   "execution_count": 112,
   "metadata": {},
   "outputs": [],
   "source": [
    "import pycountry\n",
    "import numpy as np\n",
    "\n",
    "def country_inference(df):\n",
    "\n",
    "    countries = {}\n",
    "    for affiliation in df.Affiliation:\n",
    "        if affiliation!= None:\n",
    "\n",
    "            #im also saving the values where there is no country inferred\n",
    "            for country in pycountry.countries:\n",
    "                text = affiliation\n",
    "\n",
    "                # to avoid null values\n",
    "                if text == text:\n",
    "\n",
    "                    if country.name in text:\n",
    "                        name = country.name\n",
    "                        countries[affiliation] = name\n",
    "                        \n",
    "                        \n",
    "    # Replace original values with country\n",
    "    df.CountryAffilitation = df.CountryAffilitation.replace(countries)\n",
    "\n",
    "    return df\n",
    "    "
   ]
  },
  {
   "cell_type": "code",
   "execution_count": 113,
   "metadata": {},
   "outputs": [],
   "source": [
    "def create_final_df(df, col, col_to_substitute):\n",
    "    \n",
    "    df = country_inference(df)\n",
    "    df = df.drop([col], axis=1)\n",
    "    df = df.rename(columns={col_to_substitute: col})\n",
    "    \n",
    "    return df"
   ]
  },
  {
   "cell_type": "markdown",
   "metadata": {},
   "source": [
    "<div class=\"alert alert-block alert-warning\">\n",
    "Pycountry library has a problem when reading Taiwan and Korea, manually infer this country.\n",
    "</div> \n",
    "\n",
    "\n"
   ]
  },
  {
   "cell_type": "code",
   "execution_count": 114,
   "metadata": {},
   "outputs": [],
   "source": [
    "def taiwan_korea_inference(df):\n",
    "    for i in df.index:\n",
    "        if 'Taiwan' in df['CountryAffilitation'].iloc[i]:\n",
    "            df.at[i, 'CountryAffilitation'] = 'Taiwan'\n",
    "            \n",
    "    for i in df.index:\n",
    "        if 'Korea' in df['CountryAffilitation'].iloc[i]:\n",
    "            df.at[i, 'CountryAffilitation'] = 'Korea'\n",
    "            \n",
    "    return df"
   ]
  },
  {
   "cell_type": "markdown",
   "metadata": {},
   "source": [
    "<div class=\"alert alert-block alert-info\">\n",
    "<b> DBLP Conferences </b>\n",
    "</div>"
   ]
  },
  {
   "cell_type": "code",
   "execution_count": 122,
   "metadata": {},
   "outputs": [
    {
     "data": {
      "text/html": [
       "<div>\n",
       "<style scoped>\n",
       "    .dataframe tbody tr th:only-of-type {\n",
       "        vertical-align: middle;\n",
       "    }\n",
       "\n",
       "    .dataframe tbody tr th {\n",
       "        vertical-align: top;\n",
       "    }\n",
       "\n",
       "    .dataframe thead th {\n",
       "        text-align: right;\n",
       "    }\n",
       "</style>\n",
       "<table border=\"1\" class=\"dataframe\">\n",
       "  <thead>\n",
       "    <tr style=\"text-align: right;\">\n",
       "      <th></th>\n",
       "      <th>Url</th>\n",
       "      <th>Conference</th>\n",
       "      <th>Gender</th>\n",
       "      <th>Affiliation</th>\n",
       "      <th>CountryAffilitation</th>\n",
       "    </tr>\n",
       "  </thead>\n",
       "  <tbody>\n",
       "    <tr>\n",
       "      <th>54</th>\n",
       "      <td>https://dblp.org/pid/96/7521.html</td>\n",
       "      <td>UAI 2019</td>\n",
       "      <td>Male</td>\n",
       "      <td>University of California, Los Angeles, Compute...</td>\n",
       "      <td>United States</td>\n",
       "    </tr>\n",
       "    <tr>\n",
       "      <th>55</th>\n",
       "      <td>https://dblp.org/pid/165/4473.html</td>\n",
       "      <td>UAI 2019</td>\n",
       "      <td>Male</td>\n",
       "      <td>NaN</td>\n",
       "      <td>NaN</td>\n",
       "    </tr>\n",
       "    <tr>\n",
       "      <th>56</th>\n",
       "      <td>https://dblp.org/pid/96/3115-1.html</td>\n",
       "      <td>UAI 2019</td>\n",
       "      <td>Male</td>\n",
       "      <td>Carnegie Mellon University, Department of Phil...</td>\n",
       "      <td>United States</td>\n",
       "    </tr>\n",
       "    <tr>\n",
       "      <th>57</th>\n",
       "      <td>https://dblp.org/pid/56/3623.html</td>\n",
       "      <td>UAI 2019</td>\n",
       "      <td>Male</td>\n",
       "      <td>University of Helsinki, Finland</td>\n",
       "      <td>Finland</td>\n",
       "    </tr>\n",
       "    <tr>\n",
       "      <th>58</th>\n",
       "      <td>https://dblp.org/pid/58/1568-3.html</td>\n",
       "      <td>UAI 2019</td>\n",
       "      <td>Male</td>\n",
       "      <td>University of Amsterdam, The Netherlands</td>\n",
       "      <td>Netherlands</td>\n",
       "    </tr>\n",
       "  </tbody>\n",
       "</table>\n",
       "</div>"
      ],
      "text/plain": [
       "                                    Url Conference Gender  \\\n",
       "54    https://dblp.org/pid/96/7521.html   UAI 2019   Male   \n",
       "55   https://dblp.org/pid/165/4473.html   UAI 2019   Male   \n",
       "56  https://dblp.org/pid/96/3115-1.html   UAI 2019   Male   \n",
       "57    https://dblp.org/pid/56/3623.html   UAI 2019   Male   \n",
       "58  https://dblp.org/pid/58/1568-3.html   UAI 2019   Male   \n",
       "\n",
       "                                          Affiliation CountryAffilitation  \n",
       "54  University of California, Los Angeles, Compute...       United States  \n",
       "55                                                NaN                 NaN  \n",
       "56  Carnegie Mellon University, Department of Phil...       United States  \n",
       "57                   University of Helsinki, Finland              Finland  \n",
       "58          University of Amsterdam, The Netherlands          Netherlands  "
      ]
     },
     "execution_count": 122,
     "metadata": {},
     "output_type": "execute_result"
    }
   ],
   "source": [
    "df_complete = create_final_df(df_complete, 'Affiliation', 'Affiliation_orig')\n",
    "df_complete[['Url','Conference','Gender', 'Affiliation', 'CountryAffilitation']][54:59]"
   ]
  },
  {
   "cell_type": "markdown",
   "metadata": {},
   "source": [
    "#### Rows with no AffiliationCountry value"
   ]
  },
  {
   "cell_type": "code",
   "execution_count": 123,
   "metadata": {},
   "outputs": [],
   "source": [
    "def country_affiliation_missing(df):\n",
    "    \n",
    "    no_countryaffiliation = df[(df.Affiliation == df.CountryAffilitation) | (df.CountryAffilitation.isna())] \n",
    "    print('There are', len(no_countryaffiliation),'rows out of', len(df),'with missing AffiliationCountry value')\n",
    "    \n",
    "    for i in df.index:\n",
    "        if df.Affiliation.iloc[i] == df.CountryAffilitation.iloc[i]:\n",
    "            df.at[i, 'CountryAffilitation'] = np.nan\n",
    "    \n",
    "    return df, no_countryaffiliation"
   ]
  },
  {
   "cell_type": "markdown",
   "metadata": {},
   "source": [
    "<div class=\"alert alert-block alert-info\">\n",
    "<b> DBLP Conferences </b>\n",
    "</div>"
   ]
  },
  {
   "cell_type": "code",
   "execution_count": 125,
   "metadata": {},
   "outputs": [
    {
     "name": "stdout",
     "output_type": "stream",
     "text": [
      "There are 311 rows out of 414 with missing AffiliationCountry value\n"
     ]
    }
   ],
   "source": [
    "df_complete, df_complete_nocountry = country_affiliation_missing(df_complete)"
   ]
  },
  {
   "cell_type": "code",
   "execution_count": 130,
   "metadata": {},
   "outputs": [
    {
     "data": {
      "text/html": [
       "<div>\n",
       "<style scoped>\n",
       "    .dataframe tbody tr th:only-of-type {\n",
       "        vertical-align: middle;\n",
       "    }\n",
       "\n",
       "    .dataframe tbody tr th {\n",
       "        vertical-align: top;\n",
       "    }\n",
       "\n",
       "    .dataframe thead th {\n",
       "        text-align: right;\n",
       "    }\n",
       "</style>\n",
       "<table border=\"1\" class=\"dataframe\">\n",
       "  <thead>\n",
       "    <tr style=\"text-align: right;\">\n",
       "      <th></th>\n",
       "      <th>Url</th>\n",
       "      <th>Conference</th>\n",
       "      <th>Gender</th>\n",
       "      <th>CountryAffilitation</th>\n",
       "      <th>Affiliation</th>\n",
       "    </tr>\n",
       "  </thead>\n",
       "  <tbody>\n",
       "    <tr>\n",
       "      <th>51</th>\n",
       "      <td>https://dblp.org/pid/26/2122.html</td>\n",
       "      <td>UAI 2019</td>\n",
       "      <td>Male</td>\n",
       "      <td>Canada</td>\n",
       "      <td>University of Waterloo, ON, Canada</td>\n",
       "    </tr>\n",
       "    <tr>\n",
       "      <th>52</th>\n",
       "      <td>https://dblp.org/pid/126/4298.html</td>\n",
       "      <td>UAI 2019</td>\n",
       "      <td>Male</td>\n",
       "      <td>NaN</td>\n",
       "      <td>NaN</td>\n",
       "    </tr>\n",
       "    <tr>\n",
       "      <th>53</th>\n",
       "      <td>https://dblp.org/pid/27/10464.html</td>\n",
       "      <td>UAI 2019</td>\n",
       "      <td>Male</td>\n",
       "      <td>NaN</td>\n",
       "      <td>NaN</td>\n",
       "    </tr>\n",
       "    <tr>\n",
       "      <th>54</th>\n",
       "      <td>https://dblp.org/pid/96/7521.html</td>\n",
       "      <td>UAI 2019</td>\n",
       "      <td>Male</td>\n",
       "      <td>United States</td>\n",
       "      <td>University of California, Los Angeles, Compute...</td>\n",
       "    </tr>\n",
       "    <tr>\n",
       "      <th>55</th>\n",
       "      <td>https://dblp.org/pid/165/4473.html</td>\n",
       "      <td>UAI 2019</td>\n",
       "      <td>Male</td>\n",
       "      <td>NaN</td>\n",
       "      <td>NaN</td>\n",
       "    </tr>\n",
       "    <tr>\n",
       "      <th>56</th>\n",
       "      <td>https://dblp.org/pid/96/3115-1.html</td>\n",
       "      <td>UAI 2019</td>\n",
       "      <td>Male</td>\n",
       "      <td>United States</td>\n",
       "      <td>Carnegie Mellon University, Department of Phil...</td>\n",
       "    </tr>\n",
       "    <tr>\n",
       "      <th>57</th>\n",
       "      <td>https://dblp.org/pid/56/3623.html</td>\n",
       "      <td>UAI 2019</td>\n",
       "      <td>Male</td>\n",
       "      <td>Finland</td>\n",
       "      <td>University of Helsinki, Finland</td>\n",
       "    </tr>\n",
       "    <tr>\n",
       "      <th>58</th>\n",
       "      <td>https://dblp.org/pid/58/1568-3.html</td>\n",
       "      <td>UAI 2019</td>\n",
       "      <td>Male</td>\n",
       "      <td>Netherlands</td>\n",
       "      <td>University of Amsterdam, The Netherlands</td>\n",
       "    </tr>\n",
       "    <tr>\n",
       "      <th>59</th>\n",
       "      <td>https://dblp.org/pid/92/5526.html</td>\n",
       "      <td>UAI 2019</td>\n",
       "      <td>Male</td>\n",
       "      <td>NaN</td>\n",
       "      <td>NaN</td>\n",
       "    </tr>\n",
       "    <tr>\n",
       "      <th>60</th>\n",
       "      <td>https://dblp.org/pid/44/9886.html</td>\n",
       "      <td>UAI 2019</td>\n",
       "      <td>Male</td>\n",
       "      <td>NaN</td>\n",
       "      <td>NaN</td>\n",
       "    </tr>\n",
       "    <tr>\n",
       "      <th>61</th>\n",
       "      <td>https://dblp.org/pid/69/4432.html</td>\n",
       "      <td>UAI 2019</td>\n",
       "      <td>Male</td>\n",
       "      <td>NaN</td>\n",
       "      <td>NaN</td>\n",
       "    </tr>\n",
       "    <tr>\n",
       "      <th>62</th>\n",
       "      <td>https://dblp.org/pid/r/MdRijke.html</td>\n",
       "      <td>UAI 2019</td>\n",
       "      <td>Male</td>\n",
       "      <td>Netherlands</td>\n",
       "      <td>University of Amsterdam, Netherlands</td>\n",
       "    </tr>\n",
       "    <tr>\n",
       "      <th>63</th>\n",
       "      <td>https://dblp.org/pid/62/567.html</td>\n",
       "      <td>UAI 2019</td>\n",
       "      <td>Male</td>\n",
       "      <td>Canada</td>\n",
       "      <td>University of Alberta</td>\n",
       "    </tr>\n",
       "    <tr>\n",
       "      <th>64</th>\n",
       "      <td>https://dblp.org/pid/36/11143.html</td>\n",
       "      <td>UAI 2019</td>\n",
       "      <td>Male</td>\n",
       "      <td>NaN</td>\n",
       "      <td>NaN</td>\n",
       "    </tr>\n",
       "  </tbody>\n",
       "</table>\n",
       "</div>"
      ],
      "text/plain": [
       "                                    Url Conference Gender CountryAffilitation  \\\n",
       "51    https://dblp.org/pid/26/2122.html   UAI 2019   Male              Canada   \n",
       "52   https://dblp.org/pid/126/4298.html   UAI 2019   Male                 NaN   \n",
       "53   https://dblp.org/pid/27/10464.html   UAI 2019   Male                 NaN   \n",
       "54    https://dblp.org/pid/96/7521.html   UAI 2019   Male       United States   \n",
       "55   https://dblp.org/pid/165/4473.html   UAI 2019   Male                 NaN   \n",
       "56  https://dblp.org/pid/96/3115-1.html   UAI 2019   Male       United States   \n",
       "57    https://dblp.org/pid/56/3623.html   UAI 2019   Male             Finland   \n",
       "58  https://dblp.org/pid/58/1568-3.html   UAI 2019   Male         Netherlands   \n",
       "59    https://dblp.org/pid/92/5526.html   UAI 2019   Male                 NaN   \n",
       "60    https://dblp.org/pid/44/9886.html   UAI 2019   Male                 NaN   \n",
       "61    https://dblp.org/pid/69/4432.html   UAI 2019   Male                 NaN   \n",
       "62  https://dblp.org/pid/r/MdRijke.html   UAI 2019   Male         Netherlands   \n",
       "63     https://dblp.org/pid/62/567.html   UAI 2019   Male              Canada   \n",
       "64   https://dblp.org/pid/36/11143.html   UAI 2019   Male                 NaN   \n",
       "\n",
       "                                          Affiliation  \n",
       "51                University of Waterloo, ON, Canada   \n",
       "52                                                NaN  \n",
       "53                                                NaN  \n",
       "54  University of California, Los Angeles, Compute...  \n",
       "55                                                NaN  \n",
       "56  Carnegie Mellon University, Department of Phil...  \n",
       "57                   University of Helsinki, Finland   \n",
       "58          University of Amsterdam, The Netherlands   \n",
       "59                                                NaN  \n",
       "60                                                NaN  \n",
       "61                                                NaN  \n",
       "62              University of Amsterdam, Netherlands   \n",
       "63                             University of Alberta   \n",
       "64                                                NaN  "
      ]
     },
     "execution_count": 130,
     "metadata": {},
     "output_type": "execute_result"
    }
   ],
   "source": [
    "df_complete[['Url','Conference','Gender','CountryAffilitation', 'Affiliation']][51:65]"
   ]
  }
 ],
 "metadata": {
  "kernelspec": {
   "display_name": "Python 3",
   "language": "python",
   "name": "python3"
  },
  "language_info": {
   "codemirror_mode": {
    "name": "ipython",
    "version": 3
   },
   "file_extension": ".py",
   "mimetype": "text/x-python",
   "name": "python",
   "nbconvert_exporter": "python",
   "pygments_lexer": "ipython3",
   "version": "3.8.5"
  }
 },
 "nbformat": 4,
 "nbformat_minor": 4
}
