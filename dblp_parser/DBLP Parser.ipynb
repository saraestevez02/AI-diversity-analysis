{
 "cells": [
  {
   "cell_type": "markdown",
   "metadata": {},
   "source": [
    "** **\n",
    "## Step 1: DBLP PARSER <a class=\"anchor\\\" id=\"parser\"></a>\n",
    "<div class=\"alert alert-block alert-success\">\n",
    "Designing a DBLP parser for gathering data from AI conferences. (https://dblp.org/xml/)\n",
    "</div>\n"
   ]
  },
  {
   "cell_type": "markdown",
   "metadata": {},
   "source": [
    "##### Imports"
   ]
  },
  {
   "cell_type": "code",
   "execution_count": 1,
   "metadata": {},
   "outputs": [],
   "source": [
    "import requests\n",
    "import pprint\n",
    "from bs4 import BeautifulSoup\n",
    "import pandas as pd\n",
    "from pandas import DataFrame"
   ]
  },
  {
   "cell_type": "markdown",
   "metadata": {},
   "source": [
    "### 1.1 Parse authors names"
   ]
  },
  {
   "cell_type": "markdown",
   "metadata": {},
   "source": [
    "##### Parsing URL"
   ]
  },
  {
   "cell_type": "code",
   "execution_count": 13,
   "metadata": {},
   "outputs": [],
   "source": [
    "URL = 'https://dblp.org/db/conf/uai/uai2019.html' \n",
    "#URL = 'https://dblp.org/db/conf/acii/acii2017.html'\n",
    "#URL = 'https://dblp.org/db/conf/aaai/aaai2019.html'\n",
    "\n",
    "page = requests.get(URL)\n",
    "soup = BeautifulSoup(page.content, 'html.parser')"
   ]
  },
  {
   "cell_type": "markdown",
   "metadata": {},
   "source": [
    "##### Extracting Title"
   ]
  },
  {
   "cell_type": "code",
   "execution_count": 14,
   "metadata": {},
   "outputs": [],
   "source": [
    "title = soup.title.string\n",
    "title = title.replace(\"dblp: \", \"\")"
   ]
  },
  {
   "cell_type": "markdown",
   "metadata": {},
   "source": [
    "##### Creating a list with authors names and their DBLP corresponding URLs"
   ]
  },
  {
   "cell_type": "code",
   "execution_count": 15,
   "metadata": {},
   "outputs": [],
   "source": [
    "author_names = soup.find_all('span', itemprop='author')\n",
    "\n",
    "names_list=[]\n",
    "for names in author_names:\n",
    "    name = names['itemprop'].split(\".\"), names.text\n",
    "    url = names.a['href']\n",
    "    names_list.append([name[1], url])"
   ]
  },
  {
   "cell_type": "markdown",
   "metadata": {},
   "source": [
    "##### Creation of the dataframe "
   ]
  },
  {
   "cell_type": "code",
   "execution_count": 16,
   "metadata": {},
   "outputs": [],
   "source": [
    "df = DataFrame( names_list, columns = ['Authors', 'Url'])\n",
    "df['Conference'] = title\n",
    "\n",
    "df = df.drop_duplicates()"
   ]
  },
  {
   "cell_type": "markdown",
   "metadata": {},
   "source": [
    "### 1.2 Parse authors Affiliation"
   ]
  },
  {
   "cell_type": "code",
   "execution_count": 18,
   "metadata": {},
   "outputs": [
    {
     "name": "stdout",
     "output_type": "stream",
     "text": [
      "Already parsed: 50 / 411 --- 0.71 minutes ---\n",
      "Already parsed: 100 / 411 --- 1.41 minutes ---\n",
      "Already parsed: 150 / 411 --- 2.15 minutes ---\n",
      "Already parsed: 200 / 411 --- 2.81 minutes ---\n",
      "Already parsed: 250 / 411 --- 3.67 minutes ---\n",
      "Already parsed: 300 / 411 --- 4.33 minutes ---\n",
      "Already parsed: 350 / 411 --- 4.97 minutes ---\n",
      "Already parsed: 400 / 411 --- 5.59 minutes ---\n"
     ]
    }
   ],
   "source": [
    "import time\n",
    "\n",
    "start_time = time.time()\n",
    "afilliation_list=[]\n",
    "count = 0\n",
    "\n",
    "for url in df.Url:\n",
    "    page_auth = requests.get(url)\n",
    "    soup_authors = BeautifulSoup(page_auth.content, 'html.parser')\n",
    "    \n",
    "    author_affilitation = soup_authors.find('div', class_='hide-body')\n",
    "    \n",
    "    for names in author_affilitation:\n",
    "        try:\n",
    "            name = names.span['itemprop'].split(\".\"), names.text\n",
    "            name= name[1]\n",
    "            name = name.replace(\"affiliation: \", \"\")\n",
    "            afilliation_list.append([name, url])\n",
    "            count+=1\n",
    "            if count%50 == 0:\n",
    "                print('Already parsed:',count,'/',len(df.Url), '--- %s minutes ---' %round((time.time() - start_time)/60, 2))\n",
    "            \n",
    "        except:\n",
    "            afilliation_list.append([ None, url])\n",
    "            count+=1\n",
    "            if count%50 ==0:\n",
    "                print('Already parsed:',count,'/',len(df.Url), '--- %s minutes ---' %round((time.time() - start_time)/60, 2))"
   ]
  },
  {
   "cell_type": "code",
   "execution_count": 7,
   "metadata": {},
   "outputs": [],
   "source": [
    "df_affiliation = DataFrame( afilliation_list, columns = ['Affiliation', 'Url'])"
   ]
  },
  {
   "cell_type": "code",
   "execution_count": 11,
   "metadata": {},
   "outputs": [
    {
     "data": {
      "text/html": [
       "<div>\n",
       "<style scoped>\n",
       "    .dataframe tbody tr th:only-of-type {\n",
       "        vertical-align: middle;\n",
       "    }\n",
       "\n",
       "    .dataframe tbody tr th {\n",
       "        vertical-align: top;\n",
       "    }\n",
       "\n",
       "    .dataframe thead th {\n",
       "        text-align: right;\n",
       "    }\n",
       "</style>\n",
       "<table border=\"1\" class=\"dataframe\">\n",
       "  <thead>\n",
       "    <tr style=\"text-align: right;\">\n",
       "      <th></th>\n",
       "      <th>Affiliation</th>\n",
       "      <th>Url</th>\n",
       "    </tr>\n",
       "  </thead>\n",
       "  <tbody>\n",
       "    <tr>\n",
       "      <th>8</th>\n",
       "      <td>Delft University of Technology, Department of ...</td>\n",
       "      <td>https://dblp.org/pid/41/631.html</td>\n",
       "    </tr>\n",
       "    <tr>\n",
       "      <th>9</th>\n",
       "      <td>None</td>\n",
       "      <td>https://dblp.org/pid/245/3429.html</td>\n",
       "    </tr>\n",
       "    <tr>\n",
       "      <th>10</th>\n",
       "      <td>None</td>\n",
       "      <td>https://dblp.org/pid/245/3413.html</td>\n",
       "    </tr>\n",
       "    <tr>\n",
       "      <th>11</th>\n",
       "      <td>LIMSI - Computer Science Laboratory for Mechan...</td>\n",
       "      <td>https://dblp.org/pid/53/6183.html</td>\n",
       "    </tr>\n",
       "    <tr>\n",
       "      <th>12</th>\n",
       "      <td>Telecom-Paris, France</td>\n",
       "      <td>https://dblp.org/pid/50/2768.html</td>\n",
       "    </tr>\n",
       "  </tbody>\n",
       "</table>\n",
       "</div>"
      ],
      "text/plain": [
       "                                          Affiliation  \\\n",
       "8   Delft University of Technology, Department of ...   \n",
       "9                                                None   \n",
       "10                                               None   \n",
       "11  LIMSI - Computer Science Laboratory for Mechan...   \n",
       "12                             Telecom-Paris, France    \n",
       "\n",
       "                                   Url  \n",
       "8     https://dblp.org/pid/41/631.html  \n",
       "9   https://dblp.org/pid/245/3429.html  \n",
       "10  https://dblp.org/pid/245/3413.html  \n",
       "11   https://dblp.org/pid/53/6183.html  \n",
       "12   https://dblp.org/pid/50/2768.html  "
      ]
     },
     "execution_count": 11,
     "metadata": {},
     "output_type": "execute_result"
    }
   ],
   "source": [
    "df_affiliation[8:13]"
   ]
  },
  {
   "cell_type": "code",
   "execution_count": 12,
   "metadata": {},
   "outputs": [
    {
     "name": "stdout",
     "output_type": "stream",
     "text": [
      "Total number of entries: 417\n",
      "Number of Null Affiliations: 346\n"
     ]
    }
   ],
   "source": [
    "print('Total number of entries:', len(df_affiliation))\n",
    "print('Number of Null Affiliations:', len(df_affiliation[df_affiliation['Affiliation'].isnull()]))"
   ]
  },
  {
   "cell_type": "markdown",
   "metadata": {},
   "source": [
    "##### Merge DatAffiliationframes"
   ]
  },
  {
   "cell_type": "code",
   "execution_count": 19,
   "metadata": {},
   "outputs": [],
   "source": [
    "df_complete = df.merge(df_affiliation, how='left', on='Url')"
   ]
  },
  {
   "cell_type": "markdown",
   "metadata": {
    "scrolled": true
   },
   "source": [
    "**Output:** dataframe with the columns Authors , Url, Conference and Affiliation"
   ]
  }
 ],
 "metadata": {
  "kernelspec": {
   "display_name": "Python 3",
   "language": "python",
   "name": "python3"
  },
  "language_info": {
   "codemirror_mode": {
    "name": "ipython",
    "version": 3
   },
   "file_extension": ".py",
   "mimetype": "text/x-python",
   "name": "python",
   "nbconvert_exporter": "python",
   "pygments_lexer": "ipython3",
   "version": "3.8.5"
  }
 },
 "nbformat": 4,
 "nbformat_minor": 4
}
