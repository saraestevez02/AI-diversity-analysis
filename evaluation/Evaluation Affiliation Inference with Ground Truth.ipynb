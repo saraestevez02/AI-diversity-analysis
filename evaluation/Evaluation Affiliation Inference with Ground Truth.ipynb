{
 "cells": [
  {
   "cell_type": "markdown",
   "metadata": {},
   "source": [
    "## EVALUATION OF AFFILIATION TYPE INFERENCE METHOD<a class=\"anchor\\\" id=\"affiliation\"></a>\n",
    "\n",
    "\n",
    "<div class=\"alert alert-block alert-success\">\n",
    "Evaluate how well works the method developed by checking accuracy with respect to ground truth.\n",
    "</div>"
   ]
  },
  {
   "cell_type": "markdown",
   "metadata": {},
   "source": [
    "<div class=\"alert alert-block alert-info\">\n",
    "<b> Step necessary for ACII datasets, as ground truth is being used to check accuracy </b>\n",
    "</div>"
   ]
  },
  {
   "cell_type": "code",
   "execution_count": 131,
   "metadata": {},
   "outputs": [],
   "source": [
    "import io\n",
    "import numpy as np"
   ]
  },
  {
   "cell_type": "code",
   "execution_count": 132,
   "metadata": {},
   "outputs": [],
   "source": [
    "def get_code2(centre):\n",
    "    \n",
    "    university = [\"University\", \"College\", \"Universidad\", \"Université\", \"Univ\", \"Università\", \"Universitat\", \n",
    "              \"Universidade\", \"Universiteit\", \"MIT\"]\n",
    "    research_centre = [\"Research\", \"Centre\", \"Center\", \"Institute\", \"NASA\", \"Academy\", \n",
    "                       'Project', 'Instituto', 'Institut', 'Lab', 'Labs', 'Centrum', 'Group', 'CNR']\n",
    "    \n",
    "    for item in university:\n",
    "        if item in centre:\n",
    "            return \"Academia\" \n",
    "    for item in research_centre:\n",
    "        if item in centre:\n",
    "            return \"Research Centre\"\n",
    "\n",
    "    return \"Industry\" "
   ]
  },
  {
   "cell_type": "code",
   "execution_count": 133,
   "metadata": {},
   "outputs": [],
   "source": [
    "def infer_affiliation_type(df,col):\n",
    "    df[\"Code\"] = \"I\"\n",
    "    codes = []\n",
    "\n",
    "    for row in df[col]:\n",
    "        if type(row) is str:\n",
    "            codes.append(get_code2(row))\n",
    "        else:\n",
    "            codes.append(None)\n",
    "\n",
    "    df.loc[:, 'Code'] = codes\n",
    "    \n",
    "    return df"
   ]
  },
  {
   "cell_type": "markdown",
   "metadata": {},
   "source": [
    "<div class=\"alert alert-block alert-info\">\n",
    "<b> ACII </b>\n",
    "</div>"
   ]
  },
  {
   "cell_type": "code",
   "execution_count": 140,
   "metadata": {},
   "outputs": [],
   "source": [
    "ACII = True"
   ]
  },
  {
   "cell_type": "code",
   "execution_count": 141,
   "metadata": {},
   "outputs": [],
   "source": [
    "if ACII == True:\n",
    "    df_2019_test = infer_affiliation_type(df_2019_test,'Affiliation')\n",
    "    df_2017_test = infer_affiliation_type(df_2017_test,'Affiliation')\n",
    "    df_2015_test = infer_affiliation_type(df_2015_test,'Affiliation')\n",
    "    df_2013_test = infer_affiliation_type(df_2013_test,'Affiliation')\n",
    "    df_2011_test = infer_affiliation_type(df_2011_test,'Affiliation')\n",
    "    df_2009_test = infer_affiliation_type(df_2009_test,'Affiliation')\n",
    "    df_2007_test = infer_affiliation_type(df_2007_test,'Affiliation')\n",
    "    df_2005_test = infer_affiliation_type(df_2005_test,'Affiliation')"
   ]
  },
  {
   "cell_type": "code",
   "execution_count": 142,
   "metadata": {},
   "outputs": [
    {
     "name": "stdout",
     "output_type": "stream",
     "text": [
      "YEAR 2019\n",
      "\n",
      "Academia       : 357\n",
      "Industry       : 42\n",
      "Research Centre: 73\n"
     ]
    }
   ],
   "source": [
    "if ACII == True:\n",
    "    print('YEAR 2019')\n",
    "    print()\n",
    "    print('Academia       :', len(df_2019_test[df_2019_test.Code == 'Academia']))\n",
    "    print('Industry       :', len(df_2019_test[df_2019_test.Code == 'Industry']))\n",
    "    print('Research Centre:', len(df_2019_test[df_2019_test.Code == 'Research Centre']))"
   ]
  },
  {
   "cell_type": "code",
   "execution_count": 143,
   "metadata": {},
   "outputs": [
    {
     "name": "stdout",
     "output_type": "stream",
     "text": [
      "YEAR 2017\n",
      "\n",
      "Academia       : 263\n",
      "Industry       : 34\n",
      "Research Centre: 50\n"
     ]
    }
   ],
   "source": [
    "if ACII == True:\n",
    "    print('YEAR 2017')\n",
    "    print()\n",
    "    print('Academia       :', len(df_2017_test[df_2017_test.Code == 'Academia']))\n",
    "    print('Industry       :',len(df_2017_test[df_2017_test.Code == 'Industry']))\n",
    "    print('Research Centre:',len(df_2017_test[df_2017_test.Code == 'Research Centre']))"
   ]
  },
  {
   "cell_type": "code",
   "execution_count": 144,
   "metadata": {},
   "outputs": [
    {
     "name": "stdout",
     "output_type": "stream",
     "text": [
      "YEAR 2015\n",
      "\n",
      "Academia       : 461\n",
      "Industry       : 58\n",
      "Research Centre: 101\n"
     ]
    }
   ],
   "source": [
    "if ACII == True:\n",
    "    print('YEAR 2015')\n",
    "    print()\n",
    "    print('Academia       :',len(df_2015_test[df_2015_test.Code == 'Academia']))\n",
    "    print('Industry       :',len(df_2015_test[df_2015_test.Code == 'Industry']))\n",
    "    print('Research Centre:',len(df_2015_test[df_2015_test.Code == 'Research Centre']))"
   ]
  },
  {
   "cell_type": "code",
   "execution_count": 145,
   "metadata": {},
   "outputs": [
    {
     "name": "stdout",
     "output_type": "stream",
     "text": [
      "YEAR 2013\n",
      "\n",
      "Academia       : 382\n",
      "Industry       : 113\n",
      "Research Centre: 61\n"
     ]
    }
   ],
   "source": [
    "if ACII == True:\n",
    "    print('YEAR 2013')\n",
    "    print()\n",
    "    print('Academia       :',len(df_2013_test[df_2013_test.Code == 'Academia']))\n",
    "    print('Industry       :',len(df_2013_test[df_2013_test.Code == 'Industry']))\n",
    "    print('Research Centre:',len(df_2013_test[df_2013_test.Code == 'Research Centre']))"
   ]
  },
  {
   "cell_type": "markdown",
   "metadata": {},
   "source": [
    "#### Eliminate null values for introducing data in divinAI"
   ]
  },
  {
   "cell_type": "code",
   "execution_count": 231,
   "metadata": {},
   "outputs": [],
   "source": [
    "df_complete_divinai = df_complete[['Gender', 'CountryAffilitation', 'Code']]\n",
    "df_complete_divinai = df_complete_divinai.dropna()\n",
    "df_complete_divinai.to_csv('') # specify route"
   ]
  },
  {
   "cell_type": "markdown",
   "metadata": {},
   "source": [
    "<div class=\"alert alert-block alert-warning\">\n",
    "    <b>TEST : manually inferring Affiliation in order to see how my implementation works</b>\n",
    "    <br>\n",
    "    \n",
    "<br>\n",
    "Calculate how many inferences are correct with respect to ground truth.\n",
    "    \n",
    "</div> "
   ]
  },
  {
   "cell_type": "code",
   "execution_count": 149,
   "metadata": {},
   "outputs": [],
   "source": [
    "if ACII == True:\n",
    "    df_2019['Code_infered']= df_2019_test.Code\n",
    "    df_2017['Code_infered']= df_2017_test.Code\n",
    "    df_2015['Code_infered']= df_2015_test.Code\n",
    "    df_2013['Code_infered']= df_2013_test.Code\n",
    "    df_2011['Code_infered']= df_2011_test.Code\n",
    "    df_2009['Code_infered']= df_2009_test.Code\n",
    "    df_2007['Code_infered']= df_2007_test.Code\n",
    "    df_2005['Code_infered']= df_2005_test.Code"
   ]
  },
  {
   "cell_type": "code",
   "execution_count": 154,
   "metadata": {},
   "outputs": [
    {
     "data": {
      "text/html": [
       "<div>\n",
       "<style scoped>\n",
       "    .dataframe tbody tr th:only-of-type {\n",
       "        vertical-align: middle;\n",
       "    }\n",
       "\n",
       "    .dataframe tbody tr th {\n",
       "        vertical-align: top;\n",
       "    }\n",
       "\n",
       "    .dataframe thead th {\n",
       "        text-align: right;\n",
       "    }\n",
       "</style>\n",
       "<table border=\"1\" class=\"dataframe\">\n",
       "  <thead>\n",
       "    <tr style=\"text-align: right;\">\n",
       "      <th></th>\n",
       "      <th>Affiliation</th>\n",
       "      <th>CountryAffilitation</th>\n",
       "      <th>Code</th>\n",
       "      <th>Code_infered</th>\n",
       "    </tr>\n",
       "  </thead>\n",
       "  <tbody>\n",
       "    <tr>\n",
       "      <th>5</th>\n",
       "      <td>University of Rochester,Department of Compute...</td>\n",
       "      <td>United States</td>\n",
       "      <td>Academia</td>\n",
       "      <td>Academia</td>\n",
       "    </tr>\n",
       "    <tr>\n",
       "      <th>6</th>\n",
       "      <td>University of Rochester,Department of Compute...</td>\n",
       "      <td>United States</td>\n",
       "      <td>Academia</td>\n",
       "      <td>Academia</td>\n",
       "    </tr>\n",
       "    <tr>\n",
       "      <th>7</th>\n",
       "      <td>Artificial Intelligence Research Center, Natio...</td>\n",
       "      <td>Japan</td>\n",
       "      <td>Research Centre</td>\n",
       "      <td>Research Centre</td>\n",
       "    </tr>\n",
       "    <tr>\n",
       "      <th>8</th>\n",
       "      <td>King Mongkut's University of Technology Thonb...</td>\n",
       "      <td>Thailand</td>\n",
       "      <td>Academia</td>\n",
       "      <td>Academia</td>\n",
       "    </tr>\n",
       "    <tr>\n",
       "      <th>9</th>\n",
       "      <td>Professor Emerita, Shibaura Institute of Tech...</td>\n",
       "      <td>Japan</td>\n",
       "      <td>Research Centre</td>\n",
       "      <td>Research Centre</td>\n",
       "    </tr>\n",
       "    <tr>\n",
       "      <th>10</th>\n",
       "      <td>University Maastricht,Department of Data Scien...</td>\n",
       "      <td>Netherlands</td>\n",
       "      <td>Academia</td>\n",
       "      <td>Academia</td>\n",
       "    </tr>\n",
       "    <tr>\n",
       "      <th>11</th>\n",
       "      <td>University Maastricht,Department of Data Scie...</td>\n",
       "      <td>Netherlands</td>\n",
       "      <td>Academia</td>\n",
       "      <td>Academia</td>\n",
       "    </tr>\n",
       "    <tr>\n",
       "      <th>12</th>\n",
       "      <td>University Maastricht,Department of Data Scie...</td>\n",
       "      <td>Netherlands</td>\n",
       "      <td>Academia</td>\n",
       "      <td>Academia</td>\n",
       "    </tr>\n",
       "    <tr>\n",
       "      <th>13</th>\n",
       "      <td>Georgia Institute of Technology</td>\n",
       "      <td>United States</td>\n",
       "      <td>Research Centre</td>\n",
       "      <td>Research Centre</td>\n",
       "    </tr>\n",
       "    <tr>\n",
       "      <th>14</th>\n",
       "      <td>Georgia Institute of Technology</td>\n",
       "      <td>United States</td>\n",
       "      <td>Research Centre</td>\n",
       "      <td>Research Centre</td>\n",
       "    </tr>\n",
       "  </tbody>\n",
       "</table>\n",
       "</div>"
      ],
      "text/plain": [
       "                                          Affiliation CountryAffilitation  \\\n",
       "5    University of Rochester,Department of Compute...       United States   \n",
       "6    University of Rochester,Department of Compute...       United States   \n",
       "7   Artificial Intelligence Research Center, Natio...               Japan   \n",
       "8    King Mongkut's University of Technology Thonb...            Thailand   \n",
       "9    Professor Emerita, Shibaura Institute of Tech...               Japan   \n",
       "10  University Maastricht,Department of Data Scien...         Netherlands   \n",
       "11   University Maastricht,Department of Data Scie...         Netherlands   \n",
       "12   University Maastricht,Department of Data Scie...         Netherlands   \n",
       "13                    Georgia Institute of Technology       United States   \n",
       "14                    Georgia Institute of Technology       United States   \n",
       "\n",
       "               Code     Code_infered  \n",
       "5          Academia         Academia  \n",
       "6          Academia         Academia  \n",
       "7   Research Centre  Research Centre  \n",
       "8          Academia         Academia  \n",
       "9   Research Centre  Research Centre  \n",
       "10         Academia         Academia  \n",
       "11         Academia         Academia  \n",
       "12         Academia         Academia  \n",
       "13  Research Centre  Research Centre  \n",
       "14  Research Centre  Research Centre  "
      ]
     },
     "execution_count": 154,
     "metadata": {},
     "output_type": "execute_result"
    }
   ],
   "source": [
    "df_2019[['Affiliation','CountryAffilitation','Code','Code_infered']][5:15]"
   ]
  },
  {
   "cell_type": "code",
   "execution_count": 155,
   "metadata": {},
   "outputs": [],
   "source": [
    "if ACII == True:\n",
    "    aff_2019=len(df_2019[df_2019.Code == df_2019.Code_infered])/len(df_2019)*100\n",
    "    aff_2017=len(df_2017[df_2017.Code == df_2017.Code_infered])/len(df_2017)*100\n",
    "    aff_2015=len(df_2015[df_2015.Code == df_2015.Code_infered])/len(df_2015)*100\n",
    "    aff_2013=len(df_2013[df_2013.Code == df_2013.Code_infered])/len(df_2013)*100\n",
    "    aff_2011=len(df_2011[df_2011.Code == df_2011.Code_infered])/len(df_2011)*100\n",
    "    aff_2009=len(df_2009[df_2009.Code == df_2009.Code_infered])/len(df_2009)*100\n",
    "    aff_2007=len(df_2007[df_2007.Code == df_2007.Code_infered])/len(df_2007)*100\n",
    "    aff_2005=len(df_2005[df_2005.Code == df_2005.Code_infered])/len(df_2005)*100"
   ]
  },
  {
   "cell_type": "code",
   "execution_count": 156,
   "metadata": {},
   "outputs": [
    {
     "name": "stdout",
     "output_type": "stream",
     "text": [
      "MEAN ACCURACY OF AFFILIATION TYPE INFERENCE: 86.982 %\n",
      "\n"
     ]
    },
    {
     "data": {
      "text/html": [
       "<div>\n",
       "<style scoped>\n",
       "    .dataframe tbody tr th:only-of-type {\n",
       "        vertical-align: middle;\n",
       "    }\n",
       "\n",
       "    .dataframe tbody tr th {\n",
       "        vertical-align: top;\n",
       "    }\n",
       "\n",
       "    .dataframe thead th {\n",
       "        text-align: right;\n",
       "    }\n",
       "</style>\n",
       "<table border=\"1\" class=\"dataframe\">\n",
       "  <thead>\n",
       "    <tr style=\"text-align: right;\">\n",
       "      <th></th>\n",
       "      <th>2019</th>\n",
       "      <th>2017</th>\n",
       "      <th>2015</th>\n",
       "      <th>2013</th>\n",
       "      <th>2011</th>\n",
       "      <th>2009</th>\n",
       "      <th>2007</th>\n",
       "      <th>2005</th>\n",
       "    </tr>\n",
       "  </thead>\n",
       "  <tbody>\n",
       "    <tr>\n",
       "      <th>Affiliations coinciding with ground truth</th>\n",
       "      <td>91.31 %</td>\n",
       "      <td>87.9 %</td>\n",
       "      <td>92.42 %</td>\n",
       "      <td>82.19 %</td>\n",
       "      <td>84.92 %</td>\n",
       "      <td>77.84 %</td>\n",
       "      <td>86.83 %</td>\n",
       "      <td>92.43 %</td>\n",
       "    </tr>\n",
       "  </tbody>\n",
       "</table>\n",
       "</div>"
      ],
      "text/plain": [
       "                                              2019    2017     2015     2013  \\\n",
       "Affiliations coinciding with ground truth  91.31 %  87.9 %  92.42 %  82.19 %   \n",
       "\n",
       "                                              2011     2009     2007     2005  \n",
       "Affiliations coinciding with ground truth  84.92 %  77.84 %  86.83 %  92.43 %  "
      ]
     },
     "execution_count": 156,
     "metadata": {},
     "output_type": "execute_result"
    }
   ],
   "source": [
    "if ACII == True: \n",
    "    data = {'2019':[aff_2019],\n",
    "            '2017':[aff_2017],\n",
    "            '2015':[aff_2015],\n",
    "           '2013':[aff_2013],\n",
    "           '2011':[aff_2011],\n",
    "            '2009':[aff_2009],\n",
    "            '2007':[aff_2007],\n",
    "           '2005':[aff_2005]}\n",
    "    \n",
    "    df_results = pd.DataFrame(data, index =['Affiliations coinciding with ground truth'])\n",
    "    \n",
    "    df_results = df_results.round(2)\n",
    "    \n",
    "    for i in df_results.columns:\n",
    "        df_results[i] =  df_results[i].astype(str) + ' %'\n",
    "    \n",
    "    aff_acc = [aff_2019, aff_2017, aff_2015, aff_2013, aff_2011,aff_2009, aff_2007,aff_2005]\n",
    "    \n",
    "    mean_aff_acc = np.mean(aff_acc).round(3)\n",
    "    print('MEAN ACCURACY OF AFFILIATION TYPE INFERENCE:', mean_aff_acc, '%')    \n",
    "    print()\n",
    "df_results.head()"
   ]
  }
 ],
 "metadata": {
  "kernelspec": {
   "display_name": "Python 3",
   "language": "python",
   "name": "python3"
  },
  "language_info": {
   "codemirror_mode": {
    "name": "ipython",
    "version": 3
   },
   "file_extension": ".py",
   "mimetype": "text/x-python",
   "name": "python",
   "nbconvert_exporter": "python",
   "pygments_lexer": "ipython3",
   "version": "3.8.5"
  }
 },
 "nbformat": 4,
 "nbformat_minor": 4
}
